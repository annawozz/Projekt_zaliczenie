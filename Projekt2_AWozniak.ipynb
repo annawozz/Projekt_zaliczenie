{
 "cells": [
  {
   "cell_type": "code",
   "execution_count": 388,
   "metadata": {
    "collapsed": true
   },
   "outputs": [],
   "source": [
    "import pandas as pd\n",
    "import numpy as np\n",
    "from sklearn.preprocessing import LabelEncoder\n",
    "from sklearn.preprocessing import OneHotEncoder\n",
    "from sklearn.metrics import accuracy_score\n",
    "from sklearn.linear_model import LogisticRegression\n",
    "from sklearn.tree import DecisionTreeClassifier\n",
    "from sklearn.ensemble import RandomForestClassifier\n",
    "from sklearn.ensemble import BaggingClassifier\n",
    "from sklearn.naive_bayes import MultinomialNB\n",
    "from sklearn.svm import SVC\n",
    "from sklearn.model_selection import cross_val_predict\n",
    "from sklearn.metrics import confusion_matrix, accuracy_score, precision_score, recall_score, f1_score, classification_report\n",
    "from sklearn.model_selection import cross_val_score\n",
    "from sklearn.model_selection import train_test_split\n",
    "from sklearn.model_selection import cross_validate\n",
    "from sklearn.model_selection import GridSearchCV\n",
    "from sklearn.pipeline import Pipeline\n",
    "from xgboost.sklearn import XGBClassifier\n",
    "import matplotlib.pyplot as plt\n",
    "%matplotlib inline"
   ]
  },
  {
   "cell_type": "markdown",
   "metadata": {},
   "source": [
    "# II temat Określenie czy klient miał wypłaconą pożyczkę, zmienna 'Disbursed', trzeba zastosować min 3 modele klasyfikacji binarnej"
   ]
  },
  {
   "cell_type": "code",
   "execution_count": 389,
   "metadata": {
    "collapsed": false
   },
   "outputs": [
    {
     "data": {
      "text/html": [
       "<div>\n",
       "<style scoped>\n",
       "    .dataframe tbody tr th:only-of-type {\n",
       "        vertical-align: middle;\n",
       "    }\n",
       "\n",
       "    .dataframe tbody tr th {\n",
       "        vertical-align: top;\n",
       "    }\n",
       "\n",
       "    .dataframe thead th {\n",
       "        text-align: right;\n",
       "    }\n",
       "</style>\n",
       "<table border=\"1\" class=\"dataframe\">\n",
       "  <thead>\n",
       "    <tr style=\"text-align: right;\">\n",
       "      <th></th>\n",
       "      <th>ID</th>\n",
       "      <th>Gender</th>\n",
       "      <th>City</th>\n",
       "      <th>Monthly_Income</th>\n",
       "      <th>DOB</th>\n",
       "      <th>Lead_Creation_Date</th>\n",
       "      <th>Loan_Amount_Applied</th>\n",
       "      <th>Loan_Tenure_Applied</th>\n",
       "      <th>Existing_EMI</th>\n",
       "      <th>Employer_Name</th>\n",
       "      <th>...</th>\n",
       "      <th>Interest_Rate</th>\n",
       "      <th>Processing_Fee</th>\n",
       "      <th>EMI_Loan_Submitted</th>\n",
       "      <th>Filled_Form</th>\n",
       "      <th>Device_Type</th>\n",
       "      <th>Var2</th>\n",
       "      <th>Source</th>\n",
       "      <th>Var4</th>\n",
       "      <th>LoggedIn</th>\n",
       "      <th>Disbursed</th>\n",
       "    </tr>\n",
       "  </thead>\n",
       "  <tbody>\n",
       "    <tr>\n",
       "      <th>0</th>\n",
       "      <td>ID000002C20</td>\n",
       "      <td>Female</td>\n",
       "      <td>Delhi</td>\n",
       "      <td>20000</td>\n",
       "      <td>23-May-78</td>\n",
       "      <td>15-May-15</td>\n",
       "      <td>300000.0</td>\n",
       "      <td>5.0</td>\n",
       "      <td>0.0</td>\n",
       "      <td>CYBOSOL</td>\n",
       "      <td>...</td>\n",
       "      <td>NaN</td>\n",
       "      <td>NaN</td>\n",
       "      <td>NaN</td>\n",
       "      <td>N</td>\n",
       "      <td>Web-browser</td>\n",
       "      <td>G</td>\n",
       "      <td>S122</td>\n",
       "      <td>1</td>\n",
       "      <td>0</td>\n",
       "      <td>0</td>\n",
       "    </tr>\n",
       "    <tr>\n",
       "      <th>1</th>\n",
       "      <td>ID000004E40</td>\n",
       "      <td>Male</td>\n",
       "      <td>Mumbai</td>\n",
       "      <td>35000</td>\n",
       "      <td>07-Oct-85</td>\n",
       "      <td>04-May-15</td>\n",
       "      <td>200000.0</td>\n",
       "      <td>2.0</td>\n",
       "      <td>0.0</td>\n",
       "      <td>TATA CONSULTANCY SERVICES LTD (TCS)</td>\n",
       "      <td>...</td>\n",
       "      <td>13.25</td>\n",
       "      <td>NaN</td>\n",
       "      <td>6762.90</td>\n",
       "      <td>N</td>\n",
       "      <td>Web-browser</td>\n",
       "      <td>G</td>\n",
       "      <td>S122</td>\n",
       "      <td>3</td>\n",
       "      <td>0</td>\n",
       "      <td>0</td>\n",
       "    </tr>\n",
       "    <tr>\n",
       "      <th>2</th>\n",
       "      <td>ID000007H20</td>\n",
       "      <td>Male</td>\n",
       "      <td>Panchkula</td>\n",
       "      <td>22500</td>\n",
       "      <td>10-Oct-81</td>\n",
       "      <td>19-May-15</td>\n",
       "      <td>600000.0</td>\n",
       "      <td>4.0</td>\n",
       "      <td>0.0</td>\n",
       "      <td>ALCHEMIST HOSPITALS LTD</td>\n",
       "      <td>...</td>\n",
       "      <td>NaN</td>\n",
       "      <td>NaN</td>\n",
       "      <td>NaN</td>\n",
       "      <td>N</td>\n",
       "      <td>Web-browser</td>\n",
       "      <td>B</td>\n",
       "      <td>S143</td>\n",
       "      <td>1</td>\n",
       "      <td>0</td>\n",
       "      <td>0</td>\n",
       "    </tr>\n",
       "    <tr>\n",
       "      <th>3</th>\n",
       "      <td>ID000008I30</td>\n",
       "      <td>Male</td>\n",
       "      <td>Saharsa</td>\n",
       "      <td>35000</td>\n",
       "      <td>30-Nov-87</td>\n",
       "      <td>09-May-15</td>\n",
       "      <td>1000000.0</td>\n",
       "      <td>5.0</td>\n",
       "      <td>0.0</td>\n",
       "      <td>BIHAR GOVERNMENT</td>\n",
       "      <td>...</td>\n",
       "      <td>NaN</td>\n",
       "      <td>NaN</td>\n",
       "      <td>NaN</td>\n",
       "      <td>N</td>\n",
       "      <td>Web-browser</td>\n",
       "      <td>B</td>\n",
       "      <td>S143</td>\n",
       "      <td>3</td>\n",
       "      <td>0</td>\n",
       "      <td>0</td>\n",
       "    </tr>\n",
       "    <tr>\n",
       "      <th>4</th>\n",
       "      <td>ID000009J40</td>\n",
       "      <td>Male</td>\n",
       "      <td>Bengaluru</td>\n",
       "      <td>100000</td>\n",
       "      <td>17-Feb-84</td>\n",
       "      <td>20-May-15</td>\n",
       "      <td>500000.0</td>\n",
       "      <td>2.0</td>\n",
       "      <td>25000.0</td>\n",
       "      <td>GLOBAL EDGE SOFTWARE</td>\n",
       "      <td>...</td>\n",
       "      <td>NaN</td>\n",
       "      <td>NaN</td>\n",
       "      <td>NaN</td>\n",
       "      <td>N</td>\n",
       "      <td>Web-browser</td>\n",
       "      <td>B</td>\n",
       "      <td>S134</td>\n",
       "      <td>3</td>\n",
       "      <td>1</td>\n",
       "      <td>0</td>\n",
       "    </tr>\n",
       "    <tr>\n",
       "      <th>5</th>\n",
       "      <td>ID000010K00</td>\n",
       "      <td>Male</td>\n",
       "      <td>Bengaluru</td>\n",
       "      <td>45000</td>\n",
       "      <td>21-Apr-82</td>\n",
       "      <td>20-May-15</td>\n",
       "      <td>300000.0</td>\n",
       "      <td>5.0</td>\n",
       "      <td>15000.0</td>\n",
       "      <td>COGNIZANT TECHNOLOGY SOLUTIONS INDIA PVT LTD</td>\n",
       "      <td>...</td>\n",
       "      <td>13.99</td>\n",
       "      <td>1500.0</td>\n",
       "      <td>6978.92</td>\n",
       "      <td>N</td>\n",
       "      <td>Web-browser</td>\n",
       "      <td>B</td>\n",
       "      <td>S143</td>\n",
       "      <td>3</td>\n",
       "      <td>1</td>\n",
       "      <td>0</td>\n",
       "    </tr>\n",
       "  </tbody>\n",
       "</table>\n",
       "<p>6 rows × 26 columns</p>\n",
       "</div>"
      ],
      "text/plain": [
       "            ID  Gender       City  Monthly_Income        DOB  \\\n",
       "0  ID000002C20  Female      Delhi           20000  23-May-78   \n",
       "1  ID000004E40    Male     Mumbai           35000  07-Oct-85   \n",
       "2  ID000007H20    Male  Panchkula           22500  10-Oct-81   \n",
       "3  ID000008I30    Male    Saharsa           35000  30-Nov-87   \n",
       "4  ID000009J40    Male  Bengaluru          100000  17-Feb-84   \n",
       "5  ID000010K00    Male  Bengaluru           45000  21-Apr-82   \n",
       "\n",
       "  Lead_Creation_Date  Loan_Amount_Applied  Loan_Tenure_Applied  Existing_EMI  \\\n",
       "0          15-May-15             300000.0                  5.0           0.0   \n",
       "1          04-May-15             200000.0                  2.0           0.0   \n",
       "2          19-May-15             600000.0                  4.0           0.0   \n",
       "3          09-May-15            1000000.0                  5.0           0.0   \n",
       "4          20-May-15             500000.0                  2.0       25000.0   \n",
       "5          20-May-15             300000.0                  5.0       15000.0   \n",
       "\n",
       "                                  Employer_Name  ... Interest_Rate  \\\n",
       "0                                       CYBOSOL  ...           NaN   \n",
       "1           TATA CONSULTANCY SERVICES LTD (TCS)  ...         13.25   \n",
       "2                       ALCHEMIST HOSPITALS LTD  ...           NaN   \n",
       "3                              BIHAR GOVERNMENT  ...           NaN   \n",
       "4                          GLOBAL EDGE SOFTWARE  ...           NaN   \n",
       "5  COGNIZANT TECHNOLOGY SOLUTIONS INDIA PVT LTD  ...         13.99   \n",
       "\n",
       "  Processing_Fee  EMI_Loan_Submitted Filled_Form  Device_Type  Var2  Source  \\\n",
       "0            NaN                 NaN           N  Web-browser     G    S122   \n",
       "1            NaN             6762.90           N  Web-browser     G    S122   \n",
       "2            NaN                 NaN           N  Web-browser     B    S143   \n",
       "3            NaN                 NaN           N  Web-browser     B    S143   \n",
       "4            NaN                 NaN           N  Web-browser     B    S134   \n",
       "5         1500.0             6978.92           N  Web-browser     B    S143   \n",
       "\n",
       "   Var4  LoggedIn Disbursed  \n",
       "0     1         0         0  \n",
       "1     3         0         0  \n",
       "2     1         0         0  \n",
       "3     3         0         0  \n",
       "4     3         1         0  \n",
       "5     3         1         0  \n",
       "\n",
       "[6 rows x 26 columns]"
      ]
     },
     "execution_count": 389,
     "metadata": {},
     "output_type": "execute_result"
    }
   ],
   "source": [
    "dane = pd.read_csv(\"https://raw.githubusercontent.com/saimadhu-polamuri/DataHakthon3X/\" \\\n",
    "                   \"master/dataSet/Train.csv\",sep=\",\",encoding=\"latin1\")\n",
    "dane.head(6) # wyświetl 6 pierwszych rekordów"
   ]
  },
  {
   "cell_type": "code",
   "execution_count": 390,
   "metadata": {
    "collapsed": false
   },
   "outputs": [
    {
     "data": {
      "text/plain": [
       "(87020, 26)"
      ]
     },
     "execution_count": 390,
     "metadata": {},
     "output_type": "execute_result"
    }
   ],
   "source": [
    "dane.shape # liczba wierszy i kolumn"
   ]
  },
  {
   "cell_type": "markdown",
   "metadata": {},
   "source": [
    "# Opis zmiennych\n",
    "\n",
    "Input variables:\n",
    "\n",
    "ID - Unique ID (can not be used for predictions)\n",
    "Gender- Sex\n",
    "City - Current City\n",
    "Monthly_Income - Monthly Income in rupees\n",
    "DOB - Date of Birth\n",
    "Lead_Creation_Date - Lead Created on date\n",
    "Loan_Amount_Applied - Loan Amount Requested (INR)\n",
    "Loan_Tenure_Applied - Loan Tenure Requested (in years)\n",
    "Existing_EMI - EMI of Existing Loans (INR)\n",
    "Employer_Name - Employer Name\n",
    "Salary_Account- Salary account with Bank\n",
    "Mobile_Verified - Mobile Verified (Y/N)\n",
    "Var5- Continuous classified variable\n",
    "Var1- Categorical variable with multiple levels\n",
    "Loan_Amount_Submitted- Loan Amount Revised and Selected after seeing Eligibility\n",
    "Loan_Tenure_Submitted- Loan Tenure Revised and Selected after seeing Eligibility (Years)\n",
    "Interest_Rate- Interest Rate of Submitted Loan Amount\n",
    "Processing_Fee- Processing Fee of Submitted Loan Amount (INR)\n",
    "EMI_Loan_Submitted- EMI of Submitted Loan Amount (INR)\n",
    "Filled_Form- Filled Application form post quote\n",
    "Device_Type- Device from which application was made (Browser/ Mobile)\n",
    "Var2- Categorical Variable with multiple Levels\n",
    "Source- Categorical Variable with multiple Levels\n",
    "Var4- Categorical Variable with multiple Levels\n",
    "Outcomes:\n",
    "\n",
    "LoggedIn- Application Logged (Variable for understanding the problem – cannot be used in prediction)\n",
    "Disbursed- Loan Disbursed (Target Variable)"
   ]
  },
  {
   "cell_type": "code",
   "execution_count": 391,
   "metadata": {
    "collapsed": false
   },
   "outputs": [
    {
     "name": "stdout",
     "output_type": "stream",
     "text": [
      "<class 'pandas.core.frame.DataFrame'>\n",
      "RangeIndex: 87020 entries, 0 to 87019\n",
      "Data columns (total 26 columns):\n",
      "ID                       87020 non-null object\n",
      "Gender                   87020 non-null object\n",
      "City                     86017 non-null object\n",
      "Monthly_Income           87020 non-null int64\n",
      "DOB                      87020 non-null object\n",
      "Lead_Creation_Date       87020 non-null object\n",
      "Loan_Amount_Applied      86949 non-null float64\n",
      "Loan_Tenure_Applied      86949 non-null float64\n",
      "Existing_EMI             86949 non-null float64\n",
      "Employer_Name            86949 non-null object\n",
      "Salary_Account           75256 non-null object\n",
      "Mobile_Verified          87020 non-null object\n",
      "Var5                     87020 non-null int64\n",
      "Var1                     87020 non-null object\n",
      "Loan_Amount_Submitted    52407 non-null float64\n",
      "Loan_Tenure_Submitted    52407 non-null float64\n",
      "Interest_Rate            27726 non-null float64\n",
      "Processing_Fee           27420 non-null float64\n",
      "EMI_Loan_Submitted       27726 non-null float64\n",
      "Filled_Form              87020 non-null object\n",
      "Device_Type              87020 non-null object\n",
      "Var2                     87020 non-null object\n",
      "Source                   87020 non-null object\n",
      "Var4                     87020 non-null int64\n",
      "LoggedIn                 87020 non-null int64\n",
      "Disbursed                87020 non-null int64\n",
      "dtypes: float64(8), int64(5), object(13)\n",
      "memory usage: 17.3+ MB\n"
     ]
    }
   ],
   "source": [
    "dane.info()"
   ]
  },
  {
   "cell_type": "code",
   "execution_count": 392,
   "metadata": {
    "collapsed": false
   },
   "outputs": [
    {
     "data": {
      "text/plain": [
       "Gender                    object\n",
       "City                      object\n",
       "Monthly_Income             int64\n",
       "DOB                       object\n",
       "Lead_Creation_Date        object\n",
       "Loan_Amount_Applied      float64\n",
       "Loan_Tenure_Applied      float64\n",
       "Existing_EMI             float64\n",
       "Employer_Name             object\n",
       "Salary_Account            object\n",
       "Mobile_Verified           object\n",
       "Var5                       int64\n",
       "Var1                      object\n",
       "Loan_Amount_Submitted    float64\n",
       "Loan_Tenure_Submitted    float64\n",
       "Interest_Rate            float64\n",
       "Processing_Fee           float64\n",
       "EMI_Loan_Submitted       float64\n",
       "Filled_Form               object\n",
       "Device_Type               object\n",
       "Var2                      object\n",
       "Source                    object\n",
       "Var4                       int64\n",
       "Disbursed                  int64\n",
       "dtype: object"
      ]
     },
     "execution_count": 392,
     "metadata": {},
     "output_type": "execute_result"
    }
   ],
   "source": [
    "# usuwam kolumnę 'ID' oraz LoggedIn'\n",
    "dane = dane.drop([\"ID\",\"LoggedIn\"], axis=1)\n",
    "dane.dtypes"
   ]
  },
  {
   "cell_type": "code",
   "execution_count": 393,
   "metadata": {
    "collapsed": false
   },
   "outputs": [
    {
     "data": {
      "text/html": [
       "<div>\n",
       "<style scoped>\n",
       "    .dataframe tbody tr th:only-of-type {\n",
       "        vertical-align: middle;\n",
       "    }\n",
       "\n",
       "    .dataframe tbody tr th {\n",
       "        vertical-align: top;\n",
       "    }\n",
       "\n",
       "    .dataframe thead th {\n",
       "        text-align: right;\n",
       "    }\n",
       "</style>\n",
       "<table border=\"1\" class=\"dataframe\">\n",
       "  <thead>\n",
       "    <tr style=\"text-align: right;\">\n",
       "      <th></th>\n",
       "      <th>Monthly_Income</th>\n",
       "      <th>Loan_Amount_Applied</th>\n",
       "      <th>Loan_Tenure_Applied</th>\n",
       "      <th>Existing_EMI</th>\n",
       "      <th>Var5</th>\n",
       "      <th>Loan_Amount_Submitted</th>\n",
       "      <th>Loan_Tenure_Submitted</th>\n",
       "      <th>Interest_Rate</th>\n",
       "      <th>Processing_Fee</th>\n",
       "      <th>EMI_Loan_Submitted</th>\n",
       "      <th>Var4</th>\n",
       "      <th>Disbursed</th>\n",
       "    </tr>\n",
       "  </thead>\n",
       "  <tbody>\n",
       "    <tr>\n",
       "      <th>count</th>\n",
       "      <td>8.702000e+04</td>\n",
       "      <td>8.694900e+04</td>\n",
       "      <td>86949.000000</td>\n",
       "      <td>8.694900e+04</td>\n",
       "      <td>87020.000000</td>\n",
       "      <td>5.240700e+04</td>\n",
       "      <td>52407.000000</td>\n",
       "      <td>27726.000000</td>\n",
       "      <td>27420.000000</td>\n",
       "      <td>27726.000000</td>\n",
       "      <td>87020.000000</td>\n",
       "      <td>87020.000000</td>\n",
       "    </tr>\n",
       "    <tr>\n",
       "      <th>mean</th>\n",
       "      <td>5.884997e+04</td>\n",
       "      <td>2.302507e+05</td>\n",
       "      <td>2.131399</td>\n",
       "      <td>3.696228e+03</td>\n",
       "      <td>4.961503</td>\n",
       "      <td>3.950106e+05</td>\n",
       "      <td>3.891369</td>\n",
       "      <td>19.197474</td>\n",
       "      <td>5131.150839</td>\n",
       "      <td>10999.528377</td>\n",
       "      <td>2.949805</td>\n",
       "      <td>0.014629</td>\n",
       "    </tr>\n",
       "    <tr>\n",
       "      <th>std</th>\n",
       "      <td>2.177511e+06</td>\n",
       "      <td>3.542068e+05</td>\n",
       "      <td>2.014193</td>\n",
       "      <td>3.981021e+04</td>\n",
       "      <td>5.670385</td>\n",
       "      <td>3.082481e+05</td>\n",
       "      <td>1.165359</td>\n",
       "      <td>5.834213</td>\n",
       "      <td>4725.837644</td>\n",
       "      <td>7512.323050</td>\n",
       "      <td>1.697720</td>\n",
       "      <td>0.120062</td>\n",
       "    </tr>\n",
       "    <tr>\n",
       "      <th>min</th>\n",
       "      <td>0.000000e+00</td>\n",
       "      <td>0.000000e+00</td>\n",
       "      <td>0.000000</td>\n",
       "      <td>0.000000e+00</td>\n",
       "      <td>0.000000</td>\n",
       "      <td>5.000000e+04</td>\n",
       "      <td>1.000000</td>\n",
       "      <td>11.990000</td>\n",
       "      <td>200.000000</td>\n",
       "      <td>1176.410000</td>\n",
       "      <td>0.000000</td>\n",
       "      <td>0.000000</td>\n",
       "    </tr>\n",
       "    <tr>\n",
       "      <th>25%</th>\n",
       "      <td>1.650000e+04</td>\n",
       "      <td>0.000000e+00</td>\n",
       "      <td>0.000000</td>\n",
       "      <td>0.000000e+00</td>\n",
       "      <td>0.000000</td>\n",
       "      <td>2.000000e+05</td>\n",
       "      <td>3.000000</td>\n",
       "      <td>15.250000</td>\n",
       "      <td>2000.000000</td>\n",
       "      <td>6491.600000</td>\n",
       "      <td>1.000000</td>\n",
       "      <td>0.000000</td>\n",
       "    </tr>\n",
       "    <tr>\n",
       "      <th>50%</th>\n",
       "      <td>2.500000e+04</td>\n",
       "      <td>1.000000e+05</td>\n",
       "      <td>2.000000</td>\n",
       "      <td>0.000000e+00</td>\n",
       "      <td>2.000000</td>\n",
       "      <td>3.000000e+05</td>\n",
       "      <td>4.000000</td>\n",
       "      <td>18.000000</td>\n",
       "      <td>4000.000000</td>\n",
       "      <td>9392.970000</td>\n",
       "      <td>3.000000</td>\n",
       "      <td>0.000000</td>\n",
       "    </tr>\n",
       "    <tr>\n",
       "      <th>75%</th>\n",
       "      <td>4.000000e+04</td>\n",
       "      <td>3.000000e+05</td>\n",
       "      <td>4.000000</td>\n",
       "      <td>3.500000e+03</td>\n",
       "      <td>11.000000</td>\n",
       "      <td>5.000000e+05</td>\n",
       "      <td>5.000000</td>\n",
       "      <td>20.000000</td>\n",
       "      <td>6250.000000</td>\n",
       "      <td>12919.040000</td>\n",
       "      <td>5.000000</td>\n",
       "      <td>0.000000</td>\n",
       "    </tr>\n",
       "    <tr>\n",
       "      <th>max</th>\n",
       "      <td>4.445544e+08</td>\n",
       "      <td>1.000000e+07</td>\n",
       "      <td>10.000000</td>\n",
       "      <td>1.000000e+07</td>\n",
       "      <td>18.000000</td>\n",
       "      <td>3.000000e+06</td>\n",
       "      <td>6.000000</td>\n",
       "      <td>37.000000</td>\n",
       "      <td>50000.000000</td>\n",
       "      <td>144748.280000</td>\n",
       "      <td>7.000000</td>\n",
       "      <td>1.000000</td>\n",
       "    </tr>\n",
       "  </tbody>\n",
       "</table>\n",
       "</div>"
      ],
      "text/plain": [
       "       Monthly_Income  Loan_Amount_Applied  Loan_Tenure_Applied  Existing_EMI  \\\n",
       "count    8.702000e+04         8.694900e+04         86949.000000  8.694900e+04   \n",
       "mean     5.884997e+04         2.302507e+05             2.131399  3.696228e+03   \n",
       "std      2.177511e+06         3.542068e+05             2.014193  3.981021e+04   \n",
       "min      0.000000e+00         0.000000e+00             0.000000  0.000000e+00   \n",
       "25%      1.650000e+04         0.000000e+00             0.000000  0.000000e+00   \n",
       "50%      2.500000e+04         1.000000e+05             2.000000  0.000000e+00   \n",
       "75%      4.000000e+04         3.000000e+05             4.000000  3.500000e+03   \n",
       "max      4.445544e+08         1.000000e+07            10.000000  1.000000e+07   \n",
       "\n",
       "               Var5  Loan_Amount_Submitted  Loan_Tenure_Submitted  \\\n",
       "count  87020.000000           5.240700e+04           52407.000000   \n",
       "mean       4.961503           3.950106e+05               3.891369   \n",
       "std        5.670385           3.082481e+05               1.165359   \n",
       "min        0.000000           5.000000e+04               1.000000   \n",
       "25%        0.000000           2.000000e+05               3.000000   \n",
       "50%        2.000000           3.000000e+05               4.000000   \n",
       "75%       11.000000           5.000000e+05               5.000000   \n",
       "max       18.000000           3.000000e+06               6.000000   \n",
       "\n",
       "       Interest_Rate  Processing_Fee  EMI_Loan_Submitted          Var4  \\\n",
       "count   27726.000000    27420.000000        27726.000000  87020.000000   \n",
       "mean       19.197474     5131.150839        10999.528377      2.949805   \n",
       "std         5.834213     4725.837644         7512.323050      1.697720   \n",
       "min        11.990000      200.000000         1176.410000      0.000000   \n",
       "25%        15.250000     2000.000000         6491.600000      1.000000   \n",
       "50%        18.000000     4000.000000         9392.970000      3.000000   \n",
       "75%        20.000000     6250.000000        12919.040000      5.000000   \n",
       "max        37.000000    50000.000000       144748.280000      7.000000   \n",
       "\n",
       "          Disbursed  \n",
       "count  87020.000000  \n",
       "mean       0.014629  \n",
       "std        0.120062  \n",
       "min        0.000000  \n",
       "25%        0.000000  \n",
       "50%        0.000000  \n",
       "75%        0.000000  \n",
       "max        1.000000  "
      ]
     },
     "execution_count": 393,
     "metadata": {},
     "output_type": "execute_result"
    }
   ],
   "source": [
    "dane.describe() # raport tylko dla zmiennych liczbowych"
   ]
  },
  {
   "cell_type": "code",
   "execution_count": 394,
   "metadata": {
    "collapsed": false
   },
   "outputs": [
    {
     "data": {
      "text/html": [
       "<div>\n",
       "<style scoped>\n",
       "    .dataframe tbody tr th:only-of-type {\n",
       "        vertical-align: middle;\n",
       "    }\n",
       "\n",
       "    .dataframe tbody tr th {\n",
       "        vertical-align: top;\n",
       "    }\n",
       "\n",
       "    .dataframe thead th {\n",
       "        text-align: right;\n",
       "    }\n",
       "</style>\n",
       "<table border=\"1\" class=\"dataframe\">\n",
       "  <thead>\n",
       "    <tr style=\"text-align: right;\">\n",
       "      <th></th>\n",
       "      <th>Gender</th>\n",
       "      <th>City</th>\n",
       "      <th>Monthly_Income</th>\n",
       "      <th>DOB</th>\n",
       "      <th>Lead_Creation_Date</th>\n",
       "      <th>Loan_Amount_Applied</th>\n",
       "      <th>Loan_Tenure_Applied</th>\n",
       "      <th>Existing_EMI</th>\n",
       "      <th>Employer_Name</th>\n",
       "      <th>Salary_Account</th>\n",
       "      <th>...</th>\n",
       "      <th>Loan_Tenure_Submitted</th>\n",
       "      <th>Interest_Rate</th>\n",
       "      <th>Processing_Fee</th>\n",
       "      <th>EMI_Loan_Submitted</th>\n",
       "      <th>Filled_Form</th>\n",
       "      <th>Device_Type</th>\n",
       "      <th>Var2</th>\n",
       "      <th>Source</th>\n",
       "      <th>Var4</th>\n",
       "      <th>Disbursed</th>\n",
       "    </tr>\n",
       "  </thead>\n",
       "  <tbody>\n",
       "    <tr>\n",
       "      <th>count</th>\n",
       "      <td>87020</td>\n",
       "      <td>86017</td>\n",
       "      <td>8.702000e+04</td>\n",
       "      <td>87020</td>\n",
       "      <td>87020</td>\n",
       "      <td>8.694900e+04</td>\n",
       "      <td>86949.000000</td>\n",
       "      <td>8.694900e+04</td>\n",
       "      <td>86949</td>\n",
       "      <td>75256</td>\n",
       "      <td>...</td>\n",
       "      <td>52407.000000</td>\n",
       "      <td>27726.000000</td>\n",
       "      <td>27420.000000</td>\n",
       "      <td>27726.000000</td>\n",
       "      <td>87020</td>\n",
       "      <td>87020</td>\n",
       "      <td>87020</td>\n",
       "      <td>87020</td>\n",
       "      <td>87020.000000</td>\n",
       "      <td>87020.000000</td>\n",
       "    </tr>\n",
       "    <tr>\n",
       "      <th>unique</th>\n",
       "      <td>2</td>\n",
       "      <td>697</td>\n",
       "      <td>NaN</td>\n",
       "      <td>11345</td>\n",
       "      <td>92</td>\n",
       "      <td>NaN</td>\n",
       "      <td>NaN</td>\n",
       "      <td>NaN</td>\n",
       "      <td>43567</td>\n",
       "      <td>57</td>\n",
       "      <td>...</td>\n",
       "      <td>NaN</td>\n",
       "      <td>NaN</td>\n",
       "      <td>NaN</td>\n",
       "      <td>NaN</td>\n",
       "      <td>2</td>\n",
       "      <td>2</td>\n",
       "      <td>7</td>\n",
       "      <td>30</td>\n",
       "      <td>NaN</td>\n",
       "      <td>NaN</td>\n",
       "    </tr>\n",
       "    <tr>\n",
       "      <th>top</th>\n",
       "      <td>Male</td>\n",
       "      <td>Delhi</td>\n",
       "      <td>NaN</td>\n",
       "      <td>11-Nov-80</td>\n",
       "      <td>03-Jul-15</td>\n",
       "      <td>NaN</td>\n",
       "      <td>NaN</td>\n",
       "      <td>NaN</td>\n",
       "      <td>0</td>\n",
       "      <td>HDFC Bank</td>\n",
       "      <td>...</td>\n",
       "      <td>NaN</td>\n",
       "      <td>NaN</td>\n",
       "      <td>NaN</td>\n",
       "      <td>NaN</td>\n",
       "      <td>N</td>\n",
       "      <td>Web-browser</td>\n",
       "      <td>B</td>\n",
       "      <td>S122</td>\n",
       "      <td>NaN</td>\n",
       "      <td>NaN</td>\n",
       "    </tr>\n",
       "    <tr>\n",
       "      <th>freq</th>\n",
       "      <td>49848</td>\n",
       "      <td>12527</td>\n",
       "      <td>NaN</td>\n",
       "      <td>306</td>\n",
       "      <td>2315</td>\n",
       "      <td>NaN</td>\n",
       "      <td>NaN</td>\n",
       "      <td>NaN</td>\n",
       "      <td>4914</td>\n",
       "      <td>17695</td>\n",
       "      <td>...</td>\n",
       "      <td>NaN</td>\n",
       "      <td>NaN</td>\n",
       "      <td>NaN</td>\n",
       "      <td>NaN</td>\n",
       "      <td>67530</td>\n",
       "      <td>64316</td>\n",
       "      <td>37280</td>\n",
       "      <td>38567</td>\n",
       "      <td>NaN</td>\n",
       "      <td>NaN</td>\n",
       "    </tr>\n",
       "    <tr>\n",
       "      <th>mean</th>\n",
       "      <td>NaN</td>\n",
       "      <td>NaN</td>\n",
       "      <td>5.884997e+04</td>\n",
       "      <td>NaN</td>\n",
       "      <td>NaN</td>\n",
       "      <td>2.302507e+05</td>\n",
       "      <td>2.131399</td>\n",
       "      <td>3.696228e+03</td>\n",
       "      <td>NaN</td>\n",
       "      <td>NaN</td>\n",
       "      <td>...</td>\n",
       "      <td>3.891369</td>\n",
       "      <td>19.197474</td>\n",
       "      <td>5131.150839</td>\n",
       "      <td>10999.528377</td>\n",
       "      <td>NaN</td>\n",
       "      <td>NaN</td>\n",
       "      <td>NaN</td>\n",
       "      <td>NaN</td>\n",
       "      <td>2.949805</td>\n",
       "      <td>0.014629</td>\n",
       "    </tr>\n",
       "    <tr>\n",
       "      <th>std</th>\n",
       "      <td>NaN</td>\n",
       "      <td>NaN</td>\n",
       "      <td>2.177511e+06</td>\n",
       "      <td>NaN</td>\n",
       "      <td>NaN</td>\n",
       "      <td>3.542068e+05</td>\n",
       "      <td>2.014193</td>\n",
       "      <td>3.981021e+04</td>\n",
       "      <td>NaN</td>\n",
       "      <td>NaN</td>\n",
       "      <td>...</td>\n",
       "      <td>1.165359</td>\n",
       "      <td>5.834213</td>\n",
       "      <td>4725.837644</td>\n",
       "      <td>7512.323050</td>\n",
       "      <td>NaN</td>\n",
       "      <td>NaN</td>\n",
       "      <td>NaN</td>\n",
       "      <td>NaN</td>\n",
       "      <td>1.697720</td>\n",
       "      <td>0.120062</td>\n",
       "    </tr>\n",
       "    <tr>\n",
       "      <th>min</th>\n",
       "      <td>NaN</td>\n",
       "      <td>NaN</td>\n",
       "      <td>0.000000e+00</td>\n",
       "      <td>NaN</td>\n",
       "      <td>NaN</td>\n",
       "      <td>0.000000e+00</td>\n",
       "      <td>0.000000</td>\n",
       "      <td>0.000000e+00</td>\n",
       "      <td>NaN</td>\n",
       "      <td>NaN</td>\n",
       "      <td>...</td>\n",
       "      <td>1.000000</td>\n",
       "      <td>11.990000</td>\n",
       "      <td>200.000000</td>\n",
       "      <td>1176.410000</td>\n",
       "      <td>NaN</td>\n",
       "      <td>NaN</td>\n",
       "      <td>NaN</td>\n",
       "      <td>NaN</td>\n",
       "      <td>0.000000</td>\n",
       "      <td>0.000000</td>\n",
       "    </tr>\n",
       "    <tr>\n",
       "      <th>25%</th>\n",
       "      <td>NaN</td>\n",
       "      <td>NaN</td>\n",
       "      <td>1.650000e+04</td>\n",
       "      <td>NaN</td>\n",
       "      <td>NaN</td>\n",
       "      <td>0.000000e+00</td>\n",
       "      <td>0.000000</td>\n",
       "      <td>0.000000e+00</td>\n",
       "      <td>NaN</td>\n",
       "      <td>NaN</td>\n",
       "      <td>...</td>\n",
       "      <td>3.000000</td>\n",
       "      <td>15.250000</td>\n",
       "      <td>2000.000000</td>\n",
       "      <td>6491.600000</td>\n",
       "      <td>NaN</td>\n",
       "      <td>NaN</td>\n",
       "      <td>NaN</td>\n",
       "      <td>NaN</td>\n",
       "      <td>1.000000</td>\n",
       "      <td>0.000000</td>\n",
       "    </tr>\n",
       "    <tr>\n",
       "      <th>50%</th>\n",
       "      <td>NaN</td>\n",
       "      <td>NaN</td>\n",
       "      <td>2.500000e+04</td>\n",
       "      <td>NaN</td>\n",
       "      <td>NaN</td>\n",
       "      <td>1.000000e+05</td>\n",
       "      <td>2.000000</td>\n",
       "      <td>0.000000e+00</td>\n",
       "      <td>NaN</td>\n",
       "      <td>NaN</td>\n",
       "      <td>...</td>\n",
       "      <td>4.000000</td>\n",
       "      <td>18.000000</td>\n",
       "      <td>4000.000000</td>\n",
       "      <td>9392.970000</td>\n",
       "      <td>NaN</td>\n",
       "      <td>NaN</td>\n",
       "      <td>NaN</td>\n",
       "      <td>NaN</td>\n",
       "      <td>3.000000</td>\n",
       "      <td>0.000000</td>\n",
       "    </tr>\n",
       "    <tr>\n",
       "      <th>75%</th>\n",
       "      <td>NaN</td>\n",
       "      <td>NaN</td>\n",
       "      <td>4.000000e+04</td>\n",
       "      <td>NaN</td>\n",
       "      <td>NaN</td>\n",
       "      <td>3.000000e+05</td>\n",
       "      <td>4.000000</td>\n",
       "      <td>3.500000e+03</td>\n",
       "      <td>NaN</td>\n",
       "      <td>NaN</td>\n",
       "      <td>...</td>\n",
       "      <td>5.000000</td>\n",
       "      <td>20.000000</td>\n",
       "      <td>6250.000000</td>\n",
       "      <td>12919.040000</td>\n",
       "      <td>NaN</td>\n",
       "      <td>NaN</td>\n",
       "      <td>NaN</td>\n",
       "      <td>NaN</td>\n",
       "      <td>5.000000</td>\n",
       "      <td>0.000000</td>\n",
       "    </tr>\n",
       "    <tr>\n",
       "      <th>max</th>\n",
       "      <td>NaN</td>\n",
       "      <td>NaN</td>\n",
       "      <td>4.445544e+08</td>\n",
       "      <td>NaN</td>\n",
       "      <td>NaN</td>\n",
       "      <td>1.000000e+07</td>\n",
       "      <td>10.000000</td>\n",
       "      <td>1.000000e+07</td>\n",
       "      <td>NaN</td>\n",
       "      <td>NaN</td>\n",
       "      <td>...</td>\n",
       "      <td>6.000000</td>\n",
       "      <td>37.000000</td>\n",
       "      <td>50000.000000</td>\n",
       "      <td>144748.280000</td>\n",
       "      <td>NaN</td>\n",
       "      <td>NaN</td>\n",
       "      <td>NaN</td>\n",
       "      <td>NaN</td>\n",
       "      <td>7.000000</td>\n",
       "      <td>1.000000</td>\n",
       "    </tr>\n",
       "  </tbody>\n",
       "</table>\n",
       "<p>11 rows × 24 columns</p>\n",
       "</div>"
      ],
      "text/plain": [
       "       Gender   City  Monthly_Income        DOB Lead_Creation_Date  \\\n",
       "count   87020  86017    8.702000e+04      87020              87020   \n",
       "unique      2    697             NaN      11345                 92   \n",
       "top      Male  Delhi             NaN  11-Nov-80          03-Jul-15   \n",
       "freq    49848  12527             NaN        306               2315   \n",
       "mean      NaN    NaN    5.884997e+04        NaN                NaN   \n",
       "std       NaN    NaN    2.177511e+06        NaN                NaN   \n",
       "min       NaN    NaN    0.000000e+00        NaN                NaN   \n",
       "25%       NaN    NaN    1.650000e+04        NaN                NaN   \n",
       "50%       NaN    NaN    2.500000e+04        NaN                NaN   \n",
       "75%       NaN    NaN    4.000000e+04        NaN                NaN   \n",
       "max       NaN    NaN    4.445544e+08        NaN                NaN   \n",
       "\n",
       "        Loan_Amount_Applied  Loan_Tenure_Applied  Existing_EMI Employer_Name  \\\n",
       "count          8.694900e+04         86949.000000  8.694900e+04         86949   \n",
       "unique                  NaN                  NaN           NaN         43567   \n",
       "top                     NaN                  NaN           NaN             0   \n",
       "freq                    NaN                  NaN           NaN          4914   \n",
       "mean           2.302507e+05             2.131399  3.696228e+03           NaN   \n",
       "std            3.542068e+05             2.014193  3.981021e+04           NaN   \n",
       "min            0.000000e+00             0.000000  0.000000e+00           NaN   \n",
       "25%            0.000000e+00             0.000000  0.000000e+00           NaN   \n",
       "50%            1.000000e+05             2.000000  0.000000e+00           NaN   \n",
       "75%            3.000000e+05             4.000000  3.500000e+03           NaN   \n",
       "max            1.000000e+07            10.000000  1.000000e+07           NaN   \n",
       "\n",
       "       Salary_Account  ... Loan_Tenure_Submitted  Interest_Rate  \\\n",
       "count           75256  ...          52407.000000   27726.000000   \n",
       "unique             57  ...                   NaN            NaN   \n",
       "top         HDFC Bank  ...                   NaN            NaN   \n",
       "freq            17695  ...                   NaN            NaN   \n",
       "mean              NaN  ...              3.891369      19.197474   \n",
       "std               NaN  ...              1.165359       5.834213   \n",
       "min               NaN  ...              1.000000      11.990000   \n",
       "25%               NaN  ...              3.000000      15.250000   \n",
       "50%               NaN  ...              4.000000      18.000000   \n",
       "75%               NaN  ...              5.000000      20.000000   \n",
       "max               NaN  ...              6.000000      37.000000   \n",
       "\n",
       "       Processing_Fee  EMI_Loan_Submitted  Filled_Form  Device_Type   Var2  \\\n",
       "count    27420.000000        27726.000000        87020        87020  87020   \n",
       "unique            NaN                 NaN            2            2      7   \n",
       "top               NaN                 NaN            N  Web-browser      B   \n",
       "freq              NaN                 NaN        67530        64316  37280   \n",
       "mean      5131.150839        10999.528377          NaN          NaN    NaN   \n",
       "std       4725.837644         7512.323050          NaN          NaN    NaN   \n",
       "min        200.000000         1176.410000          NaN          NaN    NaN   \n",
       "25%       2000.000000         6491.600000          NaN          NaN    NaN   \n",
       "50%       4000.000000         9392.970000          NaN          NaN    NaN   \n",
       "75%       6250.000000        12919.040000          NaN          NaN    NaN   \n",
       "max      50000.000000       144748.280000          NaN          NaN    NaN   \n",
       "\n",
       "        Source          Var4     Disbursed  \n",
       "count    87020  87020.000000  87020.000000  \n",
       "unique      30           NaN           NaN  \n",
       "top       S122           NaN           NaN  \n",
       "freq     38567           NaN           NaN  \n",
       "mean       NaN      2.949805      0.014629  \n",
       "std        NaN      1.697720      0.120062  \n",
       "min        NaN      0.000000      0.000000  \n",
       "25%        NaN      1.000000      0.000000  \n",
       "50%        NaN      3.000000      0.000000  \n",
       "75%        NaN      5.000000      0.000000  \n",
       "max        NaN      7.000000      1.000000  \n",
       "\n",
       "[11 rows x 24 columns]"
      ]
     },
     "execution_count": 394,
     "metadata": {},
     "output_type": "execute_result"
    }
   ],
   "source": [
    "dane.describe(include=\"all\") # raport dla wszystkich zmiennych"
   ]
  },
  {
   "cell_type": "code",
   "execution_count": 395,
   "metadata": {
    "collapsed": false
   },
   "outputs": [
    {
     "data": {
      "image/png": "[encoded data removed]",
      "text/plain": [
       "<Figure size 1440x1080 with 12 Axes>"
      ]
     },
     "metadata": {},
     "output_type": "display_data"
    }
   ],
   "source": [
    "# wykres histogramów dla zmiennych numerycznych\n",
    "dane.hist(bins=50, figsize=(20,15))\n",
    "plt.show()"
   ]
  },
  {
   "cell_type": "code",
   "execution_count": 396,
   "metadata": {
    "collapsed": false
   },
   "outputs": [
    {
     "data": {
      "text/plain": [
       "0    0.985371\n",
       "1    0.014629\n",
       "Name: Disbursed, dtype: float64"
      ]
     },
     "execution_count": 396,
     "metadata": {},
     "output_type": "execute_result"
    }
   ],
   "source": [
    "# Sprawdzam rozkład zmiennej Disbursed\n",
    "# 1,5% obserwacji otrzymało pożyczkę\n",
    "dane.Disbursed.value_counts(normalize=True)"
   ]
  },
  {
   "cell_type": "code",
   "execution_count": 397,
   "metadata": {
    "collapsed": false
   },
   "outputs": [
    {
     "data": {
      "text/plain": [
       "Index(['Gender', 'City', 'Monthly_Income', 'DOB', 'Lead_Creation_Date',\n",
       "       'Loan_Amount_Applied', 'Loan_Tenure_Applied', 'Existing_EMI',\n",
       "       'Employer_Name', 'Salary_Account', 'Mobile_Verified', 'Var5', 'Var1',\n",
       "       'Loan_Amount_Submitted', 'Loan_Tenure_Submitted', 'Interest_Rate',\n",
       "       'Processing_Fee', 'EMI_Loan_Submitted', 'Filled_Form', 'Device_Type',\n",
       "       'Var2', 'Source', 'Var4', 'Disbursed'],\n",
       "      dtype='object')"
      ]
     },
     "execution_count": 397,
     "metadata": {},
     "output_type": "execute_result"
    }
   ],
   "source": [
    "# Nazwy kolumn\n",
    "dane.columns"
   ]
  },
  {
   "cell_type": "code",
   "execution_count": 398,
   "metadata": {
    "collapsed": true
   },
   "outputs": [],
   "source": [
    "# Dzielę plik wejściowy na zbiór uczący i testowy\n",
    "X = dane  # nie usuwam na razie zmiennej Celu bo będzie mi potrzebna do grupowania zmiennych kategorycznych\n",
    "y = dane.Disbursed # zmienna, którą przewidujemy\n",
    "\n",
    "X_train, X_test, y_train, y_test = train_test_split(X,y,test_size=0.3, random_state=42)"
   ]
  },
  {
   "cell_type": "code",
   "execution_count": 399,
   "metadata": {
    "collapsed": false
   },
   "outputs": [
    {
     "data": {
      "text/plain": [
       "((60914, 24), (26106, 24))"
      ]
     },
     "execution_count": 399,
     "metadata": {},
     "output_type": "execute_result"
    }
   ],
   "source": [
    "X_train.shape, X_test.shape # Rozmiary zbioru uczącego i testowego"
   ]
  },
  {
   "cell_type": "code",
   "execution_count": 400,
   "metadata": {
    "collapsed": true
   },
   "outputs": [],
   "source": [
    "from warnings import filterwarnings\n",
    "filterwarnings(\"ignore\")"
   ]
  },
  {
   "cell_type": "code",
   "execution_count": 401,
   "metadata": {
    "collapsed": false
   },
   "outputs": [],
   "source": [
    "# Zamiana zmiennej 'Gender' na binarną\n",
    "X_train.Gender.replace(('Male', 'Female'), (1, 0), inplace=True)\n",
    "X_test.Gender.replace(('Male', 'Female'), (1, 0), inplace=True)"
   ]
  },
  {
   "cell_type": "code",
   "execution_count": 402,
   "metadata": {
    "collapsed": true
   },
   "outputs": [],
   "source": [
    "# Zamiana zmiennej 'Filled_Form' na binarną\n",
    "X_train.Filled_Form.replace(('Y', 'N'), (1, 0), inplace=True)\n",
    "X_test.Filled_Form.replace(('Y', 'N'), (1, 0), inplace=True)"
   ]
  },
  {
   "cell_type": "code",
   "execution_count": 403,
   "metadata": {
    "collapsed": false
   },
   "outputs": [],
   "source": [
    "# Zamiana zmiennej 'Device_Type' na binarną\n",
    "X_train.Device_Type.replace(('Web-browser', 'Mobile'), (1, 0), inplace=True)\n",
    "X_test.Device_Type.replace(('Web-browser', 'Mobile'), (1, 0), inplace=True)"
   ]
  },
  {
   "cell_type": "code",
   "execution_count": 404,
   "metadata": {
    "collapsed": true
   },
   "outputs": [],
   "source": [
    "# Zamiana zmiennej 'Mobile_Verified' na binarną\n",
    "X_train.Mobile_Verified.replace(('Y', 'N'), (1, 0), inplace=True)\n",
    "X_test.Mobile_Verified.replace(('Y', 'N'), (1, 0), inplace=True)"
   ]
  },
  {
   "cell_type": "code",
   "execution_count": 405,
   "metadata": {
    "collapsed": true
   },
   "outputs": [],
   "source": [
    "# Zamiana daty urodzenia DOB na wiek klienta\n",
    "from datetime import date\n",
    "from datetime import datetime"
   ]
  },
  {
   "cell_type": "code",
   "execution_count": 406,
   "metadata": {
    "collapsed": true
   },
   "outputs": [],
   "source": [
    "# Najpierw konwersja pola DOB do typu datetime\n",
    "X_train['DOB'] = pd.to_datetime(X_train['DOB'], errors='coerce', dayfirst=True)"
   ]
  },
  {
   "cell_type": "code",
   "execution_count": 407,
   "metadata": {
    "collapsed": false
   },
   "outputs": [
    {
     "data": {
      "text/plain": [
       "Timestamp('2019-06-22 17:10:30.661791')"
      ]
     },
     "execution_count": 407,
     "metadata": {},
     "output_type": "execute_result"
    }
   ],
   "source": [
    "now = pd.to_datetime('now')\n",
    "now"
   ]
  },
  {
   "cell_type": "code",
   "execution_count": 408,
   "metadata": {
    "collapsed": false
   },
   "outputs": [
    {
     "data": {
      "text/plain": [
       "False"
      ]
     },
     "execution_count": 408,
     "metadata": {},
     "output_type": "execute_result"
    }
   ],
   "source": [
    "# Sprawdzam, czy w zmiennej DOB są puste wartości\n",
    "X_train['DOB'].isnull().any()"
   ]
  },
  {
   "cell_type": "code",
   "execution_count": 409,
   "metadata": {
    "collapsed": true
   },
   "outputs": [],
   "source": [
    "# Teraz tworzę zmienną Wiek1\n",
    "X_train['Wiek1'] = (now.year - X_train['DOB'].dt.year) - ((now.month - X_train['DOB'].dt.month) <0)"
   ]
  },
  {
   "cell_type": "code",
   "execution_count": 338,
   "metadata": {
    "collapsed": false
   },
   "outputs": [
    {
     "data": {
      "text/html": [
       "<div>\n",
       "<style scoped>\n",
       "    .dataframe tbody tr th:only-of-type {\n",
       "        vertical-align: middle;\n",
       "    }\n",
       "\n",
       "    .dataframe tbody tr th {\n",
       "        vertical-align: top;\n",
       "    }\n",
       "\n",
       "    .dataframe thead th {\n",
       "        text-align: right;\n",
       "    }\n",
       "</style>\n",
       "<table border=\"1\" class=\"dataframe\">\n",
       "  <thead>\n",
       "    <tr style=\"text-align: right;\">\n",
       "      <th></th>\n",
       "      <th>Gender</th>\n",
       "      <th>City</th>\n",
       "      <th>Monthly_Income</th>\n",
       "      <th>DOB</th>\n",
       "      <th>Lead_Creation_Date</th>\n",
       "      <th>Loan_Amount_Applied</th>\n",
       "      <th>Loan_Tenure_Applied</th>\n",
       "      <th>Existing_EMI</th>\n",
       "      <th>Employer_Name</th>\n",
       "      <th>Salary_Account</th>\n",
       "      <th>...</th>\n",
       "      <th>Interest_Rate</th>\n",
       "      <th>Processing_Fee</th>\n",
       "      <th>EMI_Loan_Submitted</th>\n",
       "      <th>Filled_Form</th>\n",
       "      <th>Device_Type</th>\n",
       "      <th>Var2</th>\n",
       "      <th>Source</th>\n",
       "      <th>Var4</th>\n",
       "      <th>Disbursed</th>\n",
       "      <th>Wiek1</th>\n",
       "    </tr>\n",
       "  </thead>\n",
       "  <tbody>\n",
       "    <tr>\n",
       "      <th>30437</th>\n",
       "      <td>0</td>\n",
       "      <td>Bengaluru</td>\n",
       "      <td>20000</td>\n",
       "      <td>1992-08-13</td>\n",
       "      <td>04-Jun-15</td>\n",
       "      <td>0.0</td>\n",
       "      <td>4.0</td>\n",
       "      <td>6200.0</td>\n",
       "      <td>COGNIZANT TECHNOLOGY SOLUTIONS INDIA PVT LTD</td>\n",
       "      <td>HDFC Bank</td>\n",
       "      <td>...</td>\n",
       "      <td>28.5</td>\n",
       "      <td>2500.0</td>\n",
       "      <td>3513.88</td>\n",
       "      <td>0</td>\n",
       "      <td>1</td>\n",
       "      <td>B</td>\n",
       "      <td>S156</td>\n",
       "      <td>4</td>\n",
       "      <td>0</td>\n",
       "      <td>26</td>\n",
       "    </tr>\n",
       "    <tr>\n",
       "      <th>50705</th>\n",
       "      <td>1</td>\n",
       "      <td>Bengaluru</td>\n",
       "      <td>21960</td>\n",
       "      <td>2065-08-28</td>\n",
       "      <td>27-Jun-15</td>\n",
       "      <td>100000.0</td>\n",
       "      <td>4.0</td>\n",
       "      <td>0.0</td>\n",
       "      <td>ADARSHA PACKAGING PVT LTD</td>\n",
       "      <td>State Bank of India</td>\n",
       "      <td>...</td>\n",
       "      <td>24.0</td>\n",
       "      <td>2000.0</td>\n",
       "      <td>3260.18</td>\n",
       "      <td>1</td>\n",
       "      <td>1</td>\n",
       "      <td>B</td>\n",
       "      <td>S133</td>\n",
       "      <td>5</td>\n",
       "      <td>0</td>\n",
       "      <td>-47</td>\n",
       "    </tr>\n",
       "    <tr>\n",
       "      <th>26582</th>\n",
       "      <td>0</td>\n",
       "      <td>Chennai</td>\n",
       "      <td>14500</td>\n",
       "      <td>1987-04-08</td>\n",
       "      <td>31-May-15</td>\n",
       "      <td>500000.0</td>\n",
       "      <td>3.0</td>\n",
       "      <td>5000.0</td>\n",
       "      <td>DRBCCC HINDU COLLGE</td>\n",
       "      <td>Indian Overseas Bank</td>\n",
       "      <td>...</td>\n",
       "      <td>NaN</td>\n",
       "      <td>NaN</td>\n",
       "      <td>NaN</td>\n",
       "      <td>0</td>\n",
       "      <td>1</td>\n",
       "      <td>B</td>\n",
       "      <td>S133</td>\n",
       "      <td>1</td>\n",
       "      <td>0</td>\n",
       "      <td>32</td>\n",
       "    </tr>\n",
       "    <tr>\n",
       "      <th>54057</th>\n",
       "      <td>1</td>\n",
       "      <td>Delhi</td>\n",
       "      <td>21000</td>\n",
       "      <td>1991-10-20</td>\n",
       "      <td>01-Jul-15</td>\n",
       "      <td>500000.0</td>\n",
       "      <td>5.0</td>\n",
       "      <td>3100.0</td>\n",
       "      <td>ARMY HOSPITAL RESEARCH AND REFERRAL</td>\n",
       "      <td>Vijaya Bank</td>\n",
       "      <td>...</td>\n",
       "      <td>17.5</td>\n",
       "      <td>5800.0</td>\n",
       "      <td>7285.44</td>\n",
       "      <td>0</td>\n",
       "      <td>1</td>\n",
       "      <td>G</td>\n",
       "      <td>S122</td>\n",
       "      <td>4</td>\n",
       "      <td>0</td>\n",
       "      <td>27</td>\n",
       "    </tr>\n",
       "    <tr>\n",
       "      <th>217</th>\n",
       "      <td>0</td>\n",
       "      <td>Chandigarh</td>\n",
       "      <td>33000</td>\n",
       "      <td>1985-10-30</td>\n",
       "      <td>01-May-15</td>\n",
       "      <td>0.0</td>\n",
       "      <td>0.0</td>\n",
       "      <td>0.0</td>\n",
       "      <td>JBT TEACHER</td>\n",
       "      <td>Axis Bank</td>\n",
       "      <td>...</td>\n",
       "      <td>24.0</td>\n",
       "      <td>10200.0</td>\n",
       "      <td>14671.66</td>\n",
       "      <td>1</td>\n",
       "      <td>0</td>\n",
       "      <td>C</td>\n",
       "      <td>S143</td>\n",
       "      <td>5</td>\n",
       "      <td>0</td>\n",
       "      <td>33</td>\n",
       "    </tr>\n",
       "    <tr>\n",
       "      <th>77690</th>\n",
       "      <td>1</td>\n",
       "      <td>Bengaluru</td>\n",
       "      <td>75000</td>\n",
       "      <td>1984-12-15</td>\n",
       "      <td>23-Jul-15</td>\n",
       "      <td>0.0</td>\n",
       "      <td>0.0</td>\n",
       "      <td>0.0</td>\n",
       "      <td>0</td>\n",
       "      <td>NaN</td>\n",
       "      <td>...</td>\n",
       "      <td>NaN</td>\n",
       "      <td>NaN</td>\n",
       "      <td>NaN</td>\n",
       "      <td>0</td>\n",
       "      <td>1</td>\n",
       "      <td>G</td>\n",
       "      <td>S122</td>\n",
       "      <td>0</td>\n",
       "      <td>0</td>\n",
       "      <td>34</td>\n",
       "    </tr>\n",
       "  </tbody>\n",
       "</table>\n",
       "<p>6 rows × 25 columns</p>\n",
       "</div>"
      ],
      "text/plain": [
       "       Gender        City  Monthly_Income        DOB Lead_Creation_Date  \\\n",
       "30437       0   Bengaluru           20000 1992-08-13          04-Jun-15   \n",
       "50705       1   Bengaluru           21960 2065-08-28          27-Jun-15   \n",
       "26582       0     Chennai           14500 1987-04-08          31-May-15   \n",
       "54057       1       Delhi           21000 1991-10-20          01-Jul-15   \n",
       "217         0  Chandigarh           33000 1985-10-30          01-May-15   \n",
       "77690       1   Bengaluru           75000 1984-12-15          23-Jul-15   \n",
       "\n",
       "       Loan_Amount_Applied  Loan_Tenure_Applied  Existing_EMI  \\\n",
       "30437                  0.0                  4.0        6200.0   \n",
       "50705             100000.0                  4.0           0.0   \n",
       "26582             500000.0                  3.0        5000.0   \n",
       "54057             500000.0                  5.0        3100.0   \n",
       "217                    0.0                  0.0           0.0   \n",
       "77690                  0.0                  0.0           0.0   \n",
       "\n",
       "                                      Employer_Name        Salary_Account  \\\n",
       "30437  COGNIZANT TECHNOLOGY SOLUTIONS INDIA PVT LTD             HDFC Bank   \n",
       "50705                     ADARSHA PACKAGING PVT LTD   State Bank of India   \n",
       "26582                           DRBCCC HINDU COLLGE  Indian Overseas Bank   \n",
       "54057           ARMY HOSPITAL RESEARCH AND REFERRAL           Vijaya Bank   \n",
       "217                                     JBT TEACHER             Axis Bank   \n",
       "77690                                             0                   NaN   \n",
       "\n",
       "       ...  Interest_Rate  Processing_Fee EMI_Loan_Submitted  Filled_Form  \\\n",
       "30437  ...           28.5          2500.0            3513.88            0   \n",
       "50705  ...           24.0          2000.0            3260.18            1   \n",
       "26582  ...            NaN             NaN                NaN            0   \n",
       "54057  ...           17.5          5800.0            7285.44            0   \n",
       "217    ...           24.0         10200.0           14671.66            1   \n",
       "77690  ...            NaN             NaN                NaN            0   \n",
       "\n",
       "       Device_Type  Var2  Source  Var4  Disbursed  Wiek1  \n",
       "30437            1     B    S156     4          0     26  \n",
       "50705            1     B    S133     5          0    -47  \n",
       "26582            1     B    S133     1          0     32  \n",
       "54057            1     G    S122     4          0     27  \n",
       "217              0     C    S143     5          0     33  \n",
       "77690            1     G    S122     0          0     34  \n",
       "\n",
       "[6 rows x 25 columns]"
      ]
     },
     "execution_count": 338,
     "metadata": {},
     "output_type": "execute_result"
    }
   ],
   "source": [
    "# Dla osób gdzie DOB jest starszy niż 100 lat tworzy się ujemna zmienna Wiek1\n",
    "X_train.sample(6)"
   ]
  },
  {
   "cell_type": "code",
   "execution_count": 410,
   "metadata": {
    "collapsed": true
   },
   "outputs": [],
   "source": [
    "# Dla osób, których Wiek jest ujemny dodaję 100 i tworzę nową zmienną Wiek\n",
    "X_train[\"Wiek\"] = X_train[\"Wiek1\"].apply(lambda x: x+100 if x < 0 else x)"
   ]
  },
  {
   "cell_type": "code",
   "execution_count": 340,
   "metadata": {
    "collapsed": false
   },
   "outputs": [
    {
     "data": {
      "text/html": [
       "<div>\n",
       "<style scoped>\n",
       "    .dataframe tbody tr th:only-of-type {\n",
       "        vertical-align: middle;\n",
       "    }\n",
       "\n",
       "    .dataframe tbody tr th {\n",
       "        vertical-align: top;\n",
       "    }\n",
       "\n",
       "    .dataframe thead th {\n",
       "        text-align: right;\n",
       "    }\n",
       "</style>\n",
       "<table border=\"1\" class=\"dataframe\">\n",
       "  <thead>\n",
       "    <tr style=\"text-align: right;\">\n",
       "      <th></th>\n",
       "      <th>Gender</th>\n",
       "      <th>City</th>\n",
       "      <th>Monthly_Income</th>\n",
       "      <th>DOB</th>\n",
       "      <th>Lead_Creation_Date</th>\n",
       "      <th>Loan_Amount_Applied</th>\n",
       "      <th>Loan_Tenure_Applied</th>\n",
       "      <th>Existing_EMI</th>\n",
       "      <th>Employer_Name</th>\n",
       "      <th>Salary_Account</th>\n",
       "      <th>...</th>\n",
       "      <th>Processing_Fee</th>\n",
       "      <th>EMI_Loan_Submitted</th>\n",
       "      <th>Filled_Form</th>\n",
       "      <th>Device_Type</th>\n",
       "      <th>Var2</th>\n",
       "      <th>Source</th>\n",
       "      <th>Var4</th>\n",
       "      <th>Disbursed</th>\n",
       "      <th>Wiek1</th>\n",
       "      <th>Wiek</th>\n",
       "    </tr>\n",
       "  </thead>\n",
       "  <tbody>\n",
       "    <tr>\n",
       "      <th>64345</th>\n",
       "      <td>1</td>\n",
       "      <td>Delhi</td>\n",
       "      <td>20000</td>\n",
       "      <td>1983-08-31</td>\n",
       "      <td>10-Jul-15</td>\n",
       "      <td>0.0</td>\n",
       "      <td>0.0</td>\n",
       "      <td>0.0</td>\n",
       "      <td>AUTO KASHYAP INDIA PVT LTD</td>\n",
       "      <td>Dena Bank</td>\n",
       "      <td>...</td>\n",
       "      <td>6800.0</td>\n",
       "      <td>11947.21</td>\n",
       "      <td>1</td>\n",
       "      <td>0</td>\n",
       "      <td>G</td>\n",
       "      <td>S122</td>\n",
       "      <td>5</td>\n",
       "      <td>0</td>\n",
       "      <td>35</td>\n",
       "      <td>35</td>\n",
       "    </tr>\n",
       "    <tr>\n",
       "      <th>57166</th>\n",
       "      <td>1</td>\n",
       "      <td>Chennai</td>\n",
       "      <td>25000</td>\n",
       "      <td>1986-06-01</td>\n",
       "      <td>03-Jul-15</td>\n",
       "      <td>0.0</td>\n",
       "      <td>0.0</td>\n",
       "      <td>0.0</td>\n",
       "      <td>0</td>\n",
       "      <td>NaN</td>\n",
       "      <td>...</td>\n",
       "      <td>NaN</td>\n",
       "      <td>NaN</td>\n",
       "      <td>0</td>\n",
       "      <td>1</td>\n",
       "      <td>G</td>\n",
       "      <td>S122</td>\n",
       "      <td>0</td>\n",
       "      <td>0</td>\n",
       "      <td>33</td>\n",
       "      <td>33</td>\n",
       "    </tr>\n",
       "    <tr>\n",
       "      <th>49152</th>\n",
       "      <td>1</td>\n",
       "      <td>Mumbai</td>\n",
       "      <td>24000</td>\n",
       "      <td>1990-07-01</td>\n",
       "      <td>25-Jun-15</td>\n",
       "      <td>0.0</td>\n",
       "      <td>0.0</td>\n",
       "      <td>0.0</td>\n",
       "      <td>CONFLUERE IT CONSULTING</td>\n",
       "      <td>State Bank of India</td>\n",
       "      <td>...</td>\n",
       "      <td>7200.0</td>\n",
       "      <td>11736.66</td>\n",
       "      <td>1</td>\n",
       "      <td>0</td>\n",
       "      <td>C</td>\n",
       "      <td>S133</td>\n",
       "      <td>5</td>\n",
       "      <td>0</td>\n",
       "      <td>28</td>\n",
       "      <td>28</td>\n",
       "    </tr>\n",
       "    <tr>\n",
       "      <th>49110</th>\n",
       "      <td>1</td>\n",
       "      <td>Pune</td>\n",
       "      <td>20000</td>\n",
       "      <td>1987-07-10</td>\n",
       "      <td>25-Jun-15</td>\n",
       "      <td>500000.0</td>\n",
       "      <td>5.0</td>\n",
       "      <td>0.0</td>\n",
       "      <td>TRIBHOVANDAS BHIMJI ZAVERI</td>\n",
       "      <td>ICICI Bank</td>\n",
       "      <td>...</td>\n",
       "      <td>4700.0</td>\n",
       "      <td>11998.92</td>\n",
       "      <td>1</td>\n",
       "      <td>1</td>\n",
       "      <td>B</td>\n",
       "      <td>S127</td>\n",
       "      <td>5</td>\n",
       "      <td>0</td>\n",
       "      <td>31</td>\n",
       "      <td>31</td>\n",
       "    </tr>\n",
       "    <tr>\n",
       "      <th>60178</th>\n",
       "      <td>1</td>\n",
       "      <td>Mysore</td>\n",
       "      <td>25000</td>\n",
       "      <td>2064-12-12</td>\n",
       "      <td>06-Jul-15</td>\n",
       "      <td>0.0</td>\n",
       "      <td>0.0</td>\n",
       "      <td>0.0</td>\n",
       "      <td>0</td>\n",
       "      <td>NaN</td>\n",
       "      <td>...</td>\n",
       "      <td>NaN</td>\n",
       "      <td>NaN</td>\n",
       "      <td>0</td>\n",
       "      <td>1</td>\n",
       "      <td>G</td>\n",
       "      <td>S122</td>\n",
       "      <td>0</td>\n",
       "      <td>0</td>\n",
       "      <td>-46</td>\n",
       "      <td>54</td>\n",
       "    </tr>\n",
       "    <tr>\n",
       "      <th>37308</th>\n",
       "      <td>0</td>\n",
       "      <td>Tiruppur</td>\n",
       "      <td>10000</td>\n",
       "      <td>1975-05-17</td>\n",
       "      <td>12-Jun-15</td>\n",
       "      <td>100000.0</td>\n",
       "      <td>1.0</td>\n",
       "      <td>1000.0</td>\n",
       "      <td>SRINIVASAN</td>\n",
       "      <td>Union Bank of India</td>\n",
       "      <td>...</td>\n",
       "      <td>NaN</td>\n",
       "      <td>NaN</td>\n",
       "      <td>0</td>\n",
       "      <td>1</td>\n",
       "      <td>B</td>\n",
       "      <td>S133</td>\n",
       "      <td>1</td>\n",
       "      <td>0</td>\n",
       "      <td>44</td>\n",
       "      <td>44</td>\n",
       "    </tr>\n",
       "  </tbody>\n",
       "</table>\n",
       "<p>6 rows × 26 columns</p>\n",
       "</div>"
      ],
      "text/plain": [
       "       Gender      City  Monthly_Income        DOB Lead_Creation_Date  \\\n",
       "64345       1     Delhi           20000 1983-08-31          10-Jul-15   \n",
       "57166       1   Chennai           25000 1986-06-01          03-Jul-15   \n",
       "49152       1    Mumbai           24000 1990-07-01          25-Jun-15   \n",
       "49110       1      Pune           20000 1987-07-10          25-Jun-15   \n",
       "60178       1    Mysore           25000 2064-12-12          06-Jul-15   \n",
       "37308       0  Tiruppur           10000 1975-05-17          12-Jun-15   \n",
       "\n",
       "       Loan_Amount_Applied  Loan_Tenure_Applied  Existing_EMI  \\\n",
       "64345                  0.0                  0.0           0.0   \n",
       "57166                  0.0                  0.0           0.0   \n",
       "49152                  0.0                  0.0           0.0   \n",
       "49110             500000.0                  5.0           0.0   \n",
       "60178                  0.0                  0.0           0.0   \n",
       "37308             100000.0                  1.0        1000.0   \n",
       "\n",
       "                    Employer_Name       Salary_Account  ...  Processing_Fee  \\\n",
       "64345  AUTO KASHYAP INDIA PVT LTD            Dena Bank  ...          6800.0   \n",
       "57166                           0                  NaN  ...             NaN   \n",
       "49152     CONFLUERE IT CONSULTING  State Bank of India  ...          7200.0   \n",
       "49110  TRIBHOVANDAS BHIMJI ZAVERI           ICICI Bank  ...          4700.0   \n",
       "60178                           0                  NaN  ...             NaN   \n",
       "37308                  SRINIVASAN  Union Bank of India  ...             NaN   \n",
       "\n",
       "       EMI_Loan_Submitted Filled_Form  Device_Type  Var2  Source  Var4  \\\n",
       "64345            11947.21           1            0     G    S122     5   \n",
       "57166                 NaN           0            1     G    S122     0   \n",
       "49152            11736.66           1            0     C    S133     5   \n",
       "49110            11998.92           1            1     B    S127     5   \n",
       "60178                 NaN           0            1     G    S122     0   \n",
       "37308                 NaN           0            1     B    S133     1   \n",
       "\n",
       "       Disbursed  Wiek1  Wiek  \n",
       "64345          0     35    35  \n",
       "57166          0     33    33  \n",
       "49152          0     28    28  \n",
       "49110          0     31    31  \n",
       "60178          0    -46    54  \n",
       "37308          0     44    44  \n",
       "\n",
       "[6 rows x 26 columns]"
      ]
     },
     "execution_count": 340,
     "metadata": {},
     "output_type": "execute_result"
    }
   ],
   "source": [
    "X_train.sample(6)"
   ]
  },
  {
   "cell_type": "code",
   "execution_count": 411,
   "metadata": {
    "collapsed": true
   },
   "outputs": [],
   "source": [
    "# Na koniec usuwam zmienną DOB na podstawie, której powstała zmienna Wiek, oraz Wiek1 i Lead_Creation_Date\n",
    "X_train = X_train.drop([\"DOB\",\"Lead_Creation_Date\",\"Wiek1\"], axis=1)"
   ]
  },
  {
   "cell_type": "code",
   "execution_count": 412,
   "metadata": {
    "collapsed": true
   },
   "outputs": [],
   "source": [
    "# To samo ze zmienną Wiek robię w zbiorze X_test\n",
    "X_test['DOB'] = pd.to_datetime(X_test['DOB'], errors='coerce', dayfirst=True)\n",
    "X_test['Wiek1'] = (now.year - X_test['DOB'].dt.year) - ((now.month - X_test['DOB'].dt.month) <0)\n",
    "X_test[\"Wiek\"] = X_test[\"Wiek1\"].apply(lambda x: x+100 if x < 0 else x)\n",
    "X_test = X_test.drop([\"DOB\",\"Lead_Creation_Date\",\"Wiek1\"], axis=1)"
   ]
  },
  {
   "cell_type": "code",
   "execution_count": 413,
   "metadata": {
    "collapsed": false
   },
   "outputs": [
    {
     "name": "stdout",
     "output_type": "stream",
     "text": [
      "<class 'pandas.core.frame.DataFrame'>\n",
      "Int64Index: 60914 entries, 44277 to 15795\n",
      "Data columns (total 23 columns):\n",
      "Gender                   60914 non-null int64\n",
      "City                     60219 non-null object\n",
      "Monthly_Income           60914 non-null int64\n",
      "Loan_Amount_Applied      60870 non-null float64\n",
      "Loan_Tenure_Applied      60870 non-null float64\n",
      "Existing_EMI             60870 non-null float64\n",
      "Employer_Name            60870 non-null object\n",
      "Salary_Account           52731 non-null object\n",
      "Mobile_Verified          60914 non-null int64\n",
      "Var5                     60914 non-null int64\n",
      "Var1                     60914 non-null object\n",
      "Loan_Amount_Submitted    36771 non-null float64\n",
      "Loan_Tenure_Submitted    36771 non-null float64\n",
      "Interest_Rate            19460 non-null float64\n",
      "Processing_Fee           19229 non-null float64\n",
      "EMI_Loan_Submitted       19460 non-null float64\n",
      "Filled_Form              60914 non-null int64\n",
      "Device_Type              60914 non-null int64\n",
      "Var2                     60914 non-null object\n",
      "Source                   60914 non-null object\n",
      "Var4                     60914 non-null int64\n",
      "Disbursed                60914 non-null int64\n",
      "Wiek                     60914 non-null int64\n",
      "dtypes: float64(8), int64(9), object(6)\n",
      "memory usage: 11.2+ MB\n"
     ]
    }
   ],
   "source": [
    "X_train.info()"
   ]
  },
  {
   "cell_type": "code",
   "execution_count": 414,
   "metadata": {
    "collapsed": false
   },
   "outputs": [
    {
     "data": {
      "text/plain": [
       "0                                                3434\n",
       "TATA CONSULTANCY SERVICES LTD (TCS)               382\n",
       "COGNIZANT TECHNOLOGY SOLUTIONS INDIA PVT LTD      270\n",
       "ACCENTURE SERVICES PVT LTD                        227\n",
       "GOOGLE                                            211\n",
       "HCL TECHNOLOGIES LTD                              170\n",
       "ICICI BANK LTD                                    158\n",
       "INDIAN AIR FORCE                                  146\n",
       "IBM CORPORATION                                   138\n",
       "INFOSYS TECHNOLOGIES                              129\n",
       "TYPE SLOWLY FOR AUTO FILL                         126\n",
       "GENPACT                                           125\n",
       "WIPRO TECHNOLOGIES                                121\n",
       "INDIAN ARMY                                       112\n",
       "HDFC BANK LTD                                     102\n",
       "IKYA HUMAN CAPITAL SOLUTIONS LTD                   98\n",
       "STATE GOVERNMENT                                   95\n",
       "ARMY                                               94\n",
       "INDIAN RAILWAY                                     90\n",
       "CONVERGYS INDIA SERVICES PVT LTD                   88\n",
       "SERCO BPO PVT LTD                                  83\n",
       "OTHERS                                             79\n",
       "INDIAN NAVY                                        78\n",
       "TECH MAHINDRA LTD                                  76\n",
       "WIPRO BPO                                          74\n",
       "IBM GLOBAL SERVICES INDIA LTD                      72\n",
       "CONCENTRIX DAKSH SERVICES INDIA PVT LTD            68\n",
       "RANDSTAD INDIA LTD                                 64\n",
       "HSBC ELECTRONIC DATA PROCESSING INDIA PVT LTD      62\n",
       "SUTHERLAND GLOBAL SERVICES PVT LTD                 61\n",
       "                                                 ... \n",
       "KALU LAXMAN JADHAV                                  1\n",
       "LAKSHMI                                             1\n",
       "NATURAL ICE CREAM                                   1\n",
       "TRIMEX SANDS PVT LTD                                1\n",
       "JAINIM OVERSEAS                                     1\n",
       "JAPONICA ENTERPRISES                                1\n",
       "LEAR CORPORATION AUTOMOTIVE INDIA                   1\n",
       "GOVERMENT OF RAJASTHAN                              1\n",
       "UMBRELLA DEVELOPERS                                 1\n",
       "HDB FIANANCIAL SERVICES                             1\n",
       "CAR BAZAAR AUTOMOBILES PVT LTD                      1\n",
       "ISQUAREIT PVT. LTD.                                 1\n",
       "GAURANG BAJPAI                                      1\n",
       "BAJRANG MANYU FECHRING                              1\n",
       "KOHINOOR TECHNICAL INSTITUTE                        1\n",
       "VEL TECH DR.RR AND DR.SR TECHNICAL UNIVERSITY       1\n",
       "AFTER STUDIO                                        1\n",
       "OFFSHORENT SOLUTIONS PVT LTD                        1\n",
       "PRASANTA MALLICK                                    1\n",
       "VLCC PERSONAL CARE LTD                              1\n",
       "VIZTAR INTERNATIONAL PRIVATE LIMITED                1\n",
       "EAGE EDUSOLUTIONS                                   1\n",
       "MOMIN YUSUF FAZIL                                   1\n",
       "MODERN PROTECTION AND INVESTIGATIONS PVT LTD        1\n",
       "GAUTAM                                              1\n",
       "APEEJAY - SURRENDRA PARK HOTELS LTD                 1\n",
       "JISHU RAKSHIT                                       1\n",
       "K VISHNU VARDHAN REDDY                              1\n",
       "WEBYOG SOFTWORKS PVT LTD                            1\n",
       "L&T INFORMATION TECHNOLOGY LTD (L&T-IT)             1\n",
       "Name: Employer_Name, Length: 33013, dtype: int64"
      ]
     },
     "execution_count": 414,
     "metadata": {},
     "output_type": "execute_result"
    }
   ],
   "source": [
    "# Zliczenie odpowiednich wartości w kolumnie Employer_Name\n",
    "X_train.Employer_Name.value_counts()"
   ]
  },
  {
   "cell_type": "code",
   "execution_count": 415,
   "metadata": {
    "collapsed": true
   },
   "outputs": [],
   "source": [
    "# Dla Pracodawcy='0' wstawiam 'X'\n",
    "X_train[\"Employer_Name\"] = X_train[\"Employer_Name\"].apply(lambda x: 'X' if x == '0' else x)"
   ]
  },
  {
   "cell_type": "code",
   "execution_count": 416,
   "metadata": {
    "collapsed": false
   },
   "outputs": [
    {
     "name": "stdout",
     "output_type": "stream",
     "text": [
      "<class 'pandas.core.frame.DataFrame'>\n",
      "Int64Index: 26106 entries, 8093 to 25066\n",
      "Data columns (total 23 columns):\n",
      "Gender                   26106 non-null int64\n",
      "City                     25798 non-null object\n",
      "Monthly_Income           26106 non-null int64\n",
      "Loan_Amount_Applied      26079 non-null float64\n",
      "Loan_Tenure_Applied      26079 non-null float64\n",
      "Existing_EMI             26079 non-null float64\n",
      "Employer_Name            26079 non-null object\n",
      "Salary_Account           22525 non-null object\n",
      "Mobile_Verified          26106 non-null int64\n",
      "Var5                     26106 non-null int64\n",
      "Var1                     26106 non-null object\n",
      "Loan_Amount_Submitted    15636 non-null float64\n",
      "Loan_Tenure_Submitted    15636 non-null float64\n",
      "Interest_Rate            8266 non-null float64\n",
      "Processing_Fee           8191 non-null float64\n",
      "EMI_Loan_Submitted       8266 non-null float64\n",
      "Filled_Form              26106 non-null int64\n",
      "Device_Type              26106 non-null int64\n",
      "Var2                     26106 non-null object\n",
      "Source                   26106 non-null object\n",
      "Var4                     26106 non-null int64\n",
      "Disbursed                26106 non-null int64\n",
      "Wiek                     26106 non-null int64\n",
      "dtypes: float64(8), int64(9), object(6)\n",
      "memory usage: 4.8+ MB\n"
     ]
    }
   ],
   "source": [
    "# To samo dla zbioru X_test\n",
    "X_test.info()\n",
    "X_test.Employer_Name.value_counts()\n",
    "X_test[\"Employer_Name\"] = X_test[\"Employer_Name\"].apply(lambda x: 'X' if x == '0' else x)"
   ]
  },
  {
   "cell_type": "code",
   "execution_count": 417,
   "metadata": {
    "collapsed": true
   },
   "outputs": [],
   "source": [
    "# Usuwam zmienną Employer_Name, nie jest wartością dodaną\n",
    "X_train = X_train.drop([\"Employer_Name\"], axis=1)\n",
    "X_test = X_test.drop([\"Employer_Name\"], axis=1)"
   ]
  },
  {
   "cell_type": "code",
   "execution_count": 418,
   "metadata": {
    "collapsed": true
   },
   "outputs": [],
   "source": [
    "# Tam gdzie brakuje danych w zmiennych numerycznych uzupełniam je średnimi\n",
    "X_train.Loan_Amount_Applied.fillna(X_train.Loan_Amount_Applied.mean(), inplace=True)\n",
    "X_train.Loan_Tenure_Applied.fillna(X_train.Loan_Tenure_Applied.mean(), inplace=True)\n",
    "X_train.Existing_EMI.fillna(X_train.Existing_EMI.mean(), inplace=True)\n",
    "X_train.Loan_Amount_Submitted.fillna(X_train.Loan_Amount_Submitted.mean(), inplace=True)\n",
    "X_train.Loan_Tenure_Submitted.fillna(X_train.Loan_Tenure_Submitted.mean(), inplace=True)\n",
    "X_train.Interest_Rate.fillna(X_train.Interest_Rate.mean(), inplace=True)\n",
    "X_train.Processing_Fee.fillna(X_train.Processing_Fee.mean(), inplace=True)\n",
    "X_train.EMI_Loan_Submitted.fillna(X_train.EMI_Loan_Submitted.mean(), inplace=True)"
   ]
  },
  {
   "cell_type": "code",
   "execution_count": 419,
   "metadata": {
    "collapsed": false
   },
   "outputs": [
    {
     "name": "stdout",
     "output_type": "stream",
     "text": [
      "<class 'pandas.core.frame.DataFrame'>\n",
      "Int64Index: 26106 entries, 8093 to 25066\n",
      "Data columns (total 22 columns):\n",
      "Gender                   26106 non-null int64\n",
      "City                     25798 non-null object\n",
      "Monthly_Income           26106 non-null int64\n",
      "Loan_Amount_Applied      26079 non-null float64\n",
      "Loan_Tenure_Applied      26079 non-null float64\n",
      "Existing_EMI             26079 non-null float64\n",
      "Salary_Account           22525 non-null object\n",
      "Mobile_Verified          26106 non-null int64\n",
      "Var5                     26106 non-null int64\n",
      "Var1                     26106 non-null object\n",
      "Loan_Amount_Submitted    15636 non-null float64\n",
      "Loan_Tenure_Submitted    15636 non-null float64\n",
      "Interest_Rate            8266 non-null float64\n",
      "Processing_Fee           8191 non-null float64\n",
      "EMI_Loan_Submitted       8266 non-null float64\n",
      "Filled_Form              26106 non-null int64\n",
      "Device_Type              26106 non-null int64\n",
      "Var2                     26106 non-null object\n",
      "Source                   26106 non-null object\n",
      "Var4                     26106 non-null int64\n",
      "Disbursed                26106 non-null int64\n",
      "Wiek                     26106 non-null int64\n",
      "dtypes: float64(8), int64(9), object(5)\n",
      "memory usage: 4.6+ MB\n"
     ]
    }
   ],
   "source": [
    "# Teraz to samo na zbiorze X_test\n",
    "X_test.info()"
   ]
  },
  {
   "cell_type": "code",
   "execution_count": 420,
   "metadata": {
    "collapsed": true
   },
   "outputs": [],
   "source": [
    "X_test.Loan_Amount_Applied.fillna(X_test.Loan_Amount_Applied.mean(), inplace=True)\n",
    "X_test.Loan_Tenure_Applied.fillna(X_test.Loan_Tenure_Applied.mean(), inplace=True)\n",
    "X_test.Existing_EMI.fillna(X_test.Existing_EMI.mean(), inplace=True)\n",
    "X_test.Loan_Amount_Submitted.fillna(X_test.Loan_Amount_Submitted.mean(), inplace=True)\n",
    "X_test.Loan_Tenure_Submitted.fillna(X_test.Loan_Tenure_Submitted.mean(), inplace=True)\n",
    "X_test.Interest_Rate.fillna(X_test.Interest_Rate.mean(), inplace=True)\n",
    "X_test.Processing_Fee.fillna(X_test.Processing_Fee.mean(), inplace=True)\n",
    "X_test.EMI_Loan_Submitted.fillna(X_test.EMI_Loan_Submitted.mean(), inplace=True)"
   ]
  },
  {
   "cell_type": "code",
   "execution_count": 421,
   "metadata": {
    "collapsed": false
   },
   "outputs": [
    {
     "name": "stdout",
     "output_type": "stream",
     "text": [
      "<class 'pandas.core.frame.DataFrame'>\n",
      "Int64Index: 60914 entries, 44277 to 15795\n",
      "Data columns (total 22 columns):\n",
      "Gender                   60914 non-null int64\n",
      "City                     60219 non-null object\n",
      "Monthly_Income           60914 non-null int64\n",
      "Loan_Amount_Applied      60914 non-null float64\n",
      "Loan_Tenure_Applied      60914 non-null float64\n",
      "Existing_EMI             60914 non-null float64\n",
      "Salary_Account           52731 non-null object\n",
      "Mobile_Verified          60914 non-null int64\n",
      "Var5                     60914 non-null int64\n",
      "Var1                     60914 non-null object\n",
      "Loan_Amount_Submitted    60914 non-null float64\n",
      "Loan_Tenure_Submitted    60914 non-null float64\n",
      "Interest_Rate            60914 non-null float64\n",
      "Processing_Fee           60914 non-null float64\n",
      "EMI_Loan_Submitted       60914 non-null float64\n",
      "Filled_Form              60914 non-null int64\n",
      "Device_Type              60914 non-null int64\n",
      "Var2                     60914 non-null object\n",
      "Source                   60914 non-null object\n",
      "Var4                     60914 non-null int64\n",
      "Disbursed                60914 non-null int64\n",
      "Wiek                     60914 non-null int64\n",
      "dtypes: float64(8), int64(9), object(5)\n",
      "memory usage: 10.7+ MB\n"
     ]
    }
   ],
   "source": [
    "X_train.info()"
   ]
  },
  {
   "cell_type": "code",
   "execution_count": 423,
   "metadata": {
    "collapsed": false
   },
   "outputs": [
    {
     "data": {
      "text/html": [
       "<div>\n",
       "<style scoped>\n",
       "    .dataframe tbody tr th:only-of-type {\n",
       "        vertical-align: middle;\n",
       "    }\n",
       "\n",
       "    .dataframe tbody tr th {\n",
       "        vertical-align: top;\n",
       "    }\n",
       "\n",
       "    .dataframe thead th {\n",
       "        text-align: right;\n",
       "    }\n",
       "</style>\n",
       "<table border=\"1\" class=\"dataframe\">\n",
       "  <thead>\n",
       "    <tr style=\"text-align: right;\">\n",
       "      <th></th>\n",
       "      <th>Gender</th>\n",
       "      <th>City</th>\n",
       "      <th>Monthly_Income</th>\n",
       "      <th>Loan_Amount_Applied</th>\n",
       "      <th>Loan_Tenure_Applied</th>\n",
       "      <th>Existing_EMI</th>\n",
       "      <th>Salary_Account</th>\n",
       "      <th>Mobile_Verified</th>\n",
       "      <th>Var5</th>\n",
       "      <th>Var1</th>\n",
       "      <th>...</th>\n",
       "      <th>Interest_Rate</th>\n",
       "      <th>Processing_Fee</th>\n",
       "      <th>EMI_Loan_Submitted</th>\n",
       "      <th>Filled_Form</th>\n",
       "      <th>Device_Type</th>\n",
       "      <th>Var2</th>\n",
       "      <th>Source</th>\n",
       "      <th>Var4</th>\n",
       "      <th>Disbursed</th>\n",
       "      <th>Wiek</th>\n",
       "    </tr>\n",
       "  </thead>\n",
       "  <tbody>\n",
       "    <tr>\n",
       "      <th>44277</th>\n",
       "      <td>1</td>\n",
       "      <td>Chennai</td>\n",
       "      <td>28000</td>\n",
       "      <td>100000.0</td>\n",
       "      <td>2.0</td>\n",
       "      <td>2500.0</td>\n",
       "      <td>Indian Bank</td>\n",
       "      <td>1</td>\n",
       "      <td>9</td>\n",
       "      <td>HBXC</td>\n",
       "      <td>...</td>\n",
       "      <td>20.000000</td>\n",
       "      <td>1000.000000</td>\n",
       "      <td>5089.580000</td>\n",
       "      <td>1</td>\n",
       "      <td>1</td>\n",
       "      <td>B</td>\n",
       "      <td>S133</td>\n",
       "      <td>5</td>\n",
       "      <td>0</td>\n",
       "      <td>32</td>\n",
       "    </tr>\n",
       "    <tr>\n",
       "      <th>5140</th>\n",
       "      <td>0</td>\n",
       "      <td>Surat</td>\n",
       "      <td>14000</td>\n",
       "      <td>0.0</td>\n",
       "      <td>0.0</td>\n",
       "      <td>0.0</td>\n",
       "      <td>Axis Bank</td>\n",
       "      <td>0</td>\n",
       "      <td>0</td>\n",
       "      <td>HBXX</td>\n",
       "      <td>...</td>\n",
       "      <td>19.232148</td>\n",
       "      <td>5132.927557</td>\n",
       "      <td>10979.460546</td>\n",
       "      <td>0</td>\n",
       "      <td>0</td>\n",
       "      <td>C</td>\n",
       "      <td>S133</td>\n",
       "      <td>1</td>\n",
       "      <td>0</td>\n",
       "      <td>26</td>\n",
       "    </tr>\n",
       "    <tr>\n",
       "      <th>53345</th>\n",
       "      <td>0</td>\n",
       "      <td>Mumbai</td>\n",
       "      <td>25000</td>\n",
       "      <td>0.0</td>\n",
       "      <td>0.0</td>\n",
       "      <td>0.0</td>\n",
       "      <td>Kotak Bank</td>\n",
       "      <td>1</td>\n",
       "      <td>1</td>\n",
       "      <td>HBXX</td>\n",
       "      <td>...</td>\n",
       "      <td>19.232148</td>\n",
       "      <td>5132.927557</td>\n",
       "      <td>10979.460546</td>\n",
       "      <td>0</td>\n",
       "      <td>0</td>\n",
       "      <td>C</td>\n",
       "      <td>S143</td>\n",
       "      <td>3</td>\n",
       "      <td>0</td>\n",
       "      <td>32</td>\n",
       "    </tr>\n",
       "    <tr>\n",
       "      <th>38935</th>\n",
       "      <td>1</td>\n",
       "      <td>Mumbai</td>\n",
       "      <td>40000</td>\n",
       "      <td>0.0</td>\n",
       "      <td>0.0</td>\n",
       "      <td>0.0</td>\n",
       "      <td>Standard Chartered Bank</td>\n",
       "      <td>1</td>\n",
       "      <td>9</td>\n",
       "      <td>HBXD</td>\n",
       "      <td>...</td>\n",
       "      <td>14.490000</td>\n",
       "      <td>4752.000000</td>\n",
       "      <td>16519.730000</td>\n",
       "      <td>1</td>\n",
       "      <td>0</td>\n",
       "      <td>C</td>\n",
       "      <td>S159</td>\n",
       "      <td>5</td>\n",
       "      <td>0</td>\n",
       "      <td>28</td>\n",
       "    </tr>\n",
       "    <tr>\n",
       "      <th>48480</th>\n",
       "      <td>1</td>\n",
       "      <td>Delhi</td>\n",
       "      <td>22000</td>\n",
       "      <td>0.0</td>\n",
       "      <td>0.0</td>\n",
       "      <td>0.0</td>\n",
       "      <td>State Bank of India</td>\n",
       "      <td>1</td>\n",
       "      <td>2</td>\n",
       "      <td>HBXX</td>\n",
       "      <td>...</td>\n",
       "      <td>19.232148</td>\n",
       "      <td>5132.927557</td>\n",
       "      <td>10979.460546</td>\n",
       "      <td>0</td>\n",
       "      <td>0</td>\n",
       "      <td>C</td>\n",
       "      <td>S133</td>\n",
       "      <td>2</td>\n",
       "      <td>0</td>\n",
       "      <td>38</td>\n",
       "    </tr>\n",
       "  </tbody>\n",
       "</table>\n",
       "<p>5 rows × 22 columns</p>\n",
       "</div>"
      ],
      "text/plain": [
       "       Gender     City  Monthly_Income  Loan_Amount_Applied  \\\n",
       "44277       1  Chennai           28000             100000.0   \n",
       "5140        0    Surat           14000                  0.0   \n",
       "53345       0   Mumbai           25000                  0.0   \n",
       "38935       1   Mumbai           40000                  0.0   \n",
       "48480       1    Delhi           22000                  0.0   \n",
       "\n",
       "       Loan_Tenure_Applied  Existing_EMI           Salary_Account  \\\n",
       "44277                  2.0        2500.0              Indian Bank   \n",
       "5140                   0.0           0.0                Axis Bank   \n",
       "53345                  0.0           0.0               Kotak Bank   \n",
       "38935                  0.0           0.0  Standard Chartered Bank   \n",
       "48480                  0.0           0.0      State Bank of India   \n",
       "\n",
       "       Mobile_Verified  Var5  Var1  ...  Interest_Rate  Processing_Fee  \\\n",
       "44277                1     9  HBXC  ...      20.000000     1000.000000   \n",
       "5140                 0     0  HBXX  ...      19.232148     5132.927557   \n",
       "53345                1     1  HBXX  ...      19.232148     5132.927557   \n",
       "38935                1     9  HBXD  ...      14.490000     4752.000000   \n",
       "48480                1     2  HBXX  ...      19.232148     5132.927557   \n",
       "\n",
       "       EMI_Loan_Submitted  Filled_Form  Device_Type  Var2  Source Var4  \\\n",
       "44277         5089.580000            1            1     B    S133    5   \n",
       "5140         10979.460546            0            0     C    S133    1   \n",
       "53345        10979.460546            0            0     C    S143    3   \n",
       "38935        16519.730000            1            0     C    S159    5   \n",
       "48480        10979.460546            0            0     C    S133    2   \n",
       "\n",
       "      Disbursed  Wiek  \n",
       "44277         0    32  \n",
       "5140          0    26  \n",
       "53345         0    32  \n",
       "38935         0    28  \n",
       "48480         0    38  \n",
       "\n",
       "[5 rows x 22 columns]"
      ]
     },
     "execution_count": 423,
     "metadata": {},
     "output_type": "execute_result"
    }
   ],
   "source": [
    "X_train.head()"
   ]
  },
  {
   "cell_type": "code",
   "execution_count": 424,
   "metadata": {
    "collapsed": true
   },
   "outputs": [],
   "source": [
    "from sklearn.preprocessing import LabelEncoder, OneHotEncoder, LabelBinarizer\n",
    "from sklearn.tree import DecisionTreeClassifier"
   ]
  },
  {
   "cell_type": "code",
   "execution_count": 425,
   "metadata": {
    "collapsed": false
   },
   "outputs": [
    {
     "data": {
      "text/plain": [
       "Delhi                  8806\n",
       "Bengaluru              7586\n",
       "Mumbai                 7514\n",
       "Hyderabad              5069\n",
       "Chennai                4863\n",
       "Pune                   3613\n",
       "Kolkata                2014\n",
       "Ahmedabad              1248\n",
       "Jaipur                  913\n",
       "Gurgaon                 869\n",
       "Coimbatore              779\n",
       "Thane                   637\n",
       "Chandigarh              612\n",
       "Surat                   543\n",
       "Visakhapatnam           527\n",
       "Indore                  505\n",
       "Vadodara                436\n",
       "Nagpur                  420\n",
       "Lucknow                 408\n",
       "Ghaziabad               387\n",
       "Bhopal                  361\n",
       "Kochi                   332\n",
       "Patna                   325\n",
       "Faridabad               323\n",
       "Madurai                 265\n",
       "Noida                   264\n",
       "Gautam Buddha Nagar     236\n",
       "Dehradun                224\n",
       "Raipur                  208\n",
       "Ludhiana                188\n",
       "                       ... \n",
       "Rampur                    1\n",
       "Jashpur                   1\n",
       "Narayanpur                1\n",
       "Chinnamiram               1\n",
       "Shahjahanpur              1\n",
       "Sitapur                   1\n",
       "Deogarh                   1\n",
       "Bargarh                   1\n",
       "Jaintia Hills             1\n",
       "Fazilka                   1\n",
       "Sheopur                   1\n",
       "Pratapgarh                1\n",
       "Madhepura                 1\n",
       "Poonch                    1\n",
       "Banaskhantha              1\n",
       "VALLABH VIDYANAGAR        1\n",
       "SILVASA                   1\n",
       "Surendra Nagar            1\n",
       "Raisen                    1\n",
       "AMALSAD                   1\n",
       "SAYAN                     1\n",
       "Mokokchung                1\n",
       "CHOTILA                   1\n",
       "Kokrajhar                 1\n",
       "NALIYA                    1\n",
       "Chandel                   1\n",
       "Kannauj                   1\n",
       "DHORAJI                   1\n",
       "Baramulla                 1\n",
       "Seoni                     1\n",
       "Name: City, Length: 666, dtype: int64"
      ]
     },
     "execution_count": 425,
     "metadata": {},
     "output_type": "execute_result"
    }
   ],
   "source": [
    "X_train.City.value_counts()"
   ]
  },
  {
   "cell_type": "code",
   "execution_count": 426,
   "metadata": {
    "collapsed": false
   },
   "outputs": [],
   "source": [
    "# Kodowanie zmiennej City do kilku poziomów grup\n",
    "onehot=pd.get_dummies(X_train[[\"City\"]])\n",
    "level_grouper = DecisionTreeClassifier(min_samples_leaf=100, max_leaf_nodes=20)\n",
    "level_grouper.fit(onehot, X_train.Disbursed)\n",
    "X_train[\"City\"] = level_grouper.apply(onehot).astype(str)"
   ]
  },
  {
   "cell_type": "code",
   "execution_count": 427,
   "metadata": {
    "collapsed": false
   },
   "outputs": [
    {
     "data": {
      "text/plain": [
       "37    14845\n",
       "2      8806\n",
       "6      7586\n",
       "8      7514\n",
       "36     5069\n",
       "38     4863\n",
       "4      3613\n",
       "16     2014\n",
       "24     1248\n",
       "26      913\n",
       "12      869\n",
       "32      637\n",
       "34      612\n",
       "20      505\n",
       "28      436\n",
       "18      420\n",
       "10      408\n",
       "30      208\n",
       "14      184\n",
       "22      164\n",
       "Name: City, dtype: int64"
      ]
     },
     "execution_count": 427,
     "metadata": {},
     "output_type": "execute_result"
    }
   ],
   "source": [
    "X_train.City.value_counts()"
   ]
  },
  {
   "cell_type": "code",
   "execution_count": 428,
   "metadata": {
    "collapsed": false
   },
   "outputs": [],
   "source": [
    "onehot=pd.get_dummies(X_test[[\"City\"]])\n",
    "level_grouper = DecisionTreeClassifier(min_samples_leaf=100, max_leaf_nodes=20)\n",
    "level_grouper.fit(onehot, X_test.Disbursed)\n",
    "X_test[\"City\"] = level_grouper.apply(onehot).astype(str)"
   ]
  },
  {
   "cell_type": "code",
   "execution_count": 429,
   "metadata": {
    "collapsed": false
   },
   "outputs": [
    {
     "data": {
      "text/plain": [
       "37    8384\n",
       "4     3721\n",
       "22    3281\n",
       "18    3238\n",
       "20    2203\n",
       "2     1594\n",
       "16     874\n",
       "14     418\n",
       "36     368\n",
       "10     343\n",
       "12     258\n",
       "26     237\n",
       "8      229\n",
       "6      174\n",
       "28     160\n",
       "30     152\n",
       "38     136\n",
       "24     124\n",
       "34     110\n",
       "32     102\n",
       "Name: City, dtype: int64"
      ]
     },
     "execution_count": 429,
     "metadata": {},
     "output_type": "execute_result"
    }
   ],
   "source": [
    "X_test.City.value_counts()"
   ]
  },
  {
   "cell_type": "code",
   "execution_count": 430,
   "metadata": {
    "collapsed": false
   },
   "outputs": [
    {
     "data": {
      "text/plain": [
       "HDFC Bank                                          12339\n",
       "ICICI Bank                                          9553\n",
       "State Bank of India                                 8346\n",
       "Axis Bank                                           6203\n",
       "Citibank                                            1668\n",
       "Kotak Bank                                          1449\n",
       "IDBI Bank                                           1082\n",
       "Punjab National Bank                                 827\n",
       "Bank of India                                        813\n",
       "Bank of Baroda                                       784\n",
       "Standard Chartered Bank                              709\n",
       "Canara Bank                                          695\n",
       "Union Bank of India                                  669\n",
       "Yes Bank                                             529\n",
       "ING Vysya                                            471\n",
       "Corporation bank                                     463\n",
       "Indian Overseas Bank                                 431\n",
       "State Bank of Hyderabad                              408\n",
       "Indian Bank                                          403\n",
       "Oriental Bank of Commerce                            365\n",
       "IndusInd Bank                                        360\n",
       "Andhra Bank                                          340\n",
       "Central Bank of India                                319\n",
       "Syndicate Bank                                       305\n",
       "Bank of Maharasthra                                  287\n",
       "HSBC                                                 238\n",
       "State Bank of Bikaner & Jaipur                       231\n",
       "Karur Vysya Bank                                     206\n",
       "State Bank of Mysore                                 182\n",
       "Vijaya Bank                                          176\n",
       "UCO Bank                                             170\n",
       "Federal Bank                                         168\n",
       "Allahabad Bank                                       160\n",
       "State Bank of Travancore                             156\n",
       "United Bank of India                                 130\n",
       "Karnataka Bank                                       129\n",
       "State Bank of Patiala                                128\n",
       "South Indian Bank                                    120\n",
       "Saraswat Bank                                        119\n",
       "Dena Bank                                            116\n",
       "Deutsche Bank                                         87\n",
       "Abhyuday Co-op Bank Ltd                               86\n",
       "The Ratnakar Bank Ltd                                 59\n",
       "Tamil Nadu Mercantile Bank                            49\n",
       "Punjab & Sind bank                                    44\n",
       "J&K Bank                                              39\n",
       "Lakshmi Vilas bank                                    35\n",
       "Dhanalakshmi Bank Ltd                                 30\n",
       "State Bank of Indore                                  15\n",
       "Catholic Syrian Bank                                  10\n",
       "GIC Housing Finance Ltd                                7\n",
       "B N P Paribas                                          7\n",
       "Firstrand Bank Limited                                 6\n",
       "India Bulls                                            4\n",
       "Kerala Gramin Bank                                     4\n",
       "Industrial And Commercial Bank Of China Limited        1\n",
       "Bank of Rajasthan                                      1\n",
       "Name: Salary_Account, dtype: int64"
      ]
     },
     "execution_count": 430,
     "metadata": {},
     "output_type": "execute_result"
    }
   ],
   "source": [
    "X_train.Salary_Account.value_counts()"
   ]
  },
  {
   "cell_type": "code",
   "execution_count": 431,
   "metadata": {
    "collapsed": true
   },
   "outputs": [],
   "source": [
    "# Kodowanie zmiennej Salary_Account do kilku poziomów grup\n",
    "onehot=pd.get_dummies(X_train[[\"Salary_Account\"]])\n",
    "level_grouper = DecisionTreeClassifier(min_samples_leaf=100, max_leaf_nodes=20)\n",
    "level_grouper.fit(onehot, X_train.Disbursed)\n",
    "X_train[\"Salary_Account\"] = level_grouper.apply(onehot).astype(str)"
   ]
  },
  {
   "cell_type": "code",
   "execution_count": 432,
   "metadata": {
    "collapsed": false
   },
   "outputs": [
    {
     "data": {
      "text/plain": [
       "37    14908\n",
       "4     12339\n",
       "2      9553\n",
       "18     8346\n",
       "8      6203\n",
       "6      1668\n",
       "12     1449\n",
       "32     1082\n",
       "16      827\n",
       "14      709\n",
       "34      695\n",
       "30      529\n",
       "26      471\n",
       "24      463\n",
       "38      408\n",
       "20      403\n",
       "22      319\n",
       "10      238\n",
       "28      176\n",
       "36      128\n",
       "Name: Salary_Account, dtype: int64"
      ]
     },
     "execution_count": 432,
     "metadata": {},
     "output_type": "execute_result"
    }
   ],
   "source": [
    "X_train.Salary_Account.value_counts()"
   ]
  },
  {
   "cell_type": "code",
   "execution_count": 433,
   "metadata": {
    "collapsed": true
   },
   "outputs": [],
   "source": [
    "onehot=pd.get_dummies(X_test[[\"Salary_Account\"]])\n",
    "level_grouper = DecisionTreeClassifier(min_samples_leaf=100, max_leaf_nodes=20)\n",
    "level_grouper.fit(onehot, X_test.Disbursed)\n",
    "X_test[\"Salary_Account\"] = level_grouper.apply(onehot).astype(str)"
   ]
  },
  {
   "cell_type": "code",
   "execution_count": 434,
   "metadata": {
    "collapsed": false
   },
   "outputs": [
    {
     "data": {
      "text/plain": [
       "37    6226\n",
       "2     5356\n",
       "4     4083\n",
       "22    3497\n",
       "8     2580\n",
       "10     708\n",
       "12     618\n",
       "26     468\n",
       "24     342\n",
       "18     295\n",
       "6      286\n",
       "38     282\n",
       "20     250\n",
       "30     207\n",
       "28     186\n",
       "36     181\n",
       "14     159\n",
       "16     152\n",
       "32     120\n",
       "34     110\n",
       "Name: Salary_Account, dtype: int64"
      ]
     },
     "execution_count": 434,
     "metadata": {},
     "output_type": "execute_result"
    }
   ],
   "source": [
    "X_test.Salary_Account.value_counts()"
   ]
  },
  {
   "cell_type": "code",
   "execution_count": 435,
   "metadata": {
    "collapsed": false
   },
   "outputs": [
    {
     "data": {
      "text/plain": [
       "0     20313\n",
       "1      8645\n",
       "3      4726\n",
       "11     3680\n",
       "2      3124\n",
       "14     2571\n",
       "15     2417\n",
       "12     2069\n",
       "13     1829\n",
       "8      1796\n",
       "10     1720\n",
       "9      1576\n",
       "16     1491\n",
       "4      1241\n",
       "17     1173\n",
       "7      1057\n",
       "6       690\n",
       "5       658\n",
       "18      138\n",
       "Name: Var5, dtype: int64"
      ]
     },
     "execution_count": 435,
     "metadata": {},
     "output_type": "execute_result"
    }
   ],
   "source": [
    "X_train.Var5.value_counts()"
   ]
  },
  {
   "cell_type": "code",
   "execution_count": 436,
   "metadata": {
    "collapsed": false
   },
   "outputs": [
    {
     "data": {
      "text/plain": [
       "HBXX    41454\n",
       "HBXC     6352\n",
       "HBXB     3173\n",
       "HAXA     2033\n",
       "HBXA     1473\n",
       "HAXB     1427\n",
       "HBXD     1352\n",
       "HAXC     1078\n",
       "HBXH      684\n",
       "HCXF      478\n",
       "HAYT      367\n",
       "HAVC      276\n",
       "HAXM      189\n",
       "HCXD      154\n",
       "HCYS      147\n",
       "HVYS      136\n",
       "HAZD       78\n",
       "HCXG       50\n",
       "HAXF       13\n",
       "Name: Var1, dtype: int64"
      ]
     },
     "execution_count": 436,
     "metadata": {},
     "output_type": "execute_result"
    }
   ],
   "source": [
    "X_train.Var1.value_counts()"
   ]
  },
  {
   "cell_type": "code",
   "execution_count": 437,
   "metadata": {
    "collapsed": true
   },
   "outputs": [],
   "source": [
    "# Kodowanie zmiennej Var1 do kilku poziomów grup\n",
    "onehot=pd.get_dummies(X_train[[\"Var1\"]])\n",
    "level_grouper = DecisionTreeClassifier(min_samples_leaf=100, max_leaf_nodes=15)\n",
    "level_grouper.fit(onehot, X_train.Disbursed)\n",
    "X_train[\"Var1\"] = level_grouper.apply(onehot).astype(str)"
   ]
  },
  {
   "cell_type": "code",
   "execution_count": 438,
   "metadata": {
    "collapsed": false
   },
   "outputs": [
    {
     "data": {
      "text/plain": [
       "28    41454\n",
       "22     6352\n",
       "10     3173\n",
       "12     2033\n",
       "6      1473\n",
       "4      1427\n",
       "8      1352\n",
       "2      1078\n",
       "26      684\n",
       "27      655\n",
       "18      478\n",
       "20      276\n",
       "14      189\n",
       "24      154\n",
       "16      136\n",
       "Name: Var1, dtype: int64"
      ]
     },
     "execution_count": 438,
     "metadata": {},
     "output_type": "execute_result"
    }
   ],
   "source": [
    "X_train.Var1.value_counts()"
   ]
  },
  {
   "cell_type": "code",
   "execution_count": 439,
   "metadata": {
    "collapsed": true
   },
   "outputs": [],
   "source": [
    "onehot=pd.get_dummies(X_test[[\"Var1\"]])\n",
    "level_grouper = DecisionTreeClassifier(min_samples_leaf=100, max_leaf_nodes=15)\n",
    "level_grouper.fit(onehot, X_test.Disbursed)\n",
    "X_test[\"Var1\"] = level_grouper.apply(onehot).astype(str)"
   ]
  },
  {
   "cell_type": "code",
   "execution_count": 440,
   "metadata": {
    "collapsed": false
   },
   "outputs": [
    {
     "data": {
      "text/plain": [
       "22    17840\n",
       "20     2658\n",
       "14     1306\n",
       "12      876\n",
       "4       650\n",
       "8       612\n",
       "2       584\n",
       "6       458\n",
       "23      343\n",
       "24      286\n",
       "10      244\n",
       "18      141\n",
       "16      108\n",
       "Name: Var1, dtype: int64"
      ]
     },
     "execution_count": 440,
     "metadata": {},
     "output_type": "execute_result"
    }
   ],
   "source": [
    "X_test.Var1.value_counts()"
   ]
  },
  {
   "cell_type": "code",
   "execution_count": 441,
   "metadata": {
    "collapsed": false
   },
   "outputs": [
    {
     "data": {
      "text/plain": [
       "B    26081\n",
       "G    23139\n",
       "C     9924\n",
       "E      930\n",
       "D      459\n",
       "F      377\n",
       "A        4\n",
       "Name: Var2, dtype: int64"
      ]
     },
     "execution_count": 441,
     "metadata": {},
     "output_type": "execute_result"
    }
   ],
   "source": [
    "X_train.Var2.value_counts()"
   ]
  },
  {
   "cell_type": "code",
   "execution_count": 442,
   "metadata": {
    "collapsed": true
   },
   "outputs": [],
   "source": [
    "# Kodowanie zmiennej Var2 do kilku poziomów grup\n",
    "onehot=pd.get_dummies(X_train[[\"Var2\"]])\n",
    "level_grouper = DecisionTreeClassifier(min_samples_leaf=100, max_leaf_nodes=10)\n",
    "level_grouper.fit(onehot, X_train.Disbursed)\n",
    "X_train[\"Var2\"] = level_grouper.apply(onehot).astype(str)"
   ]
  },
  {
   "cell_type": "code",
   "execution_count": 443,
   "metadata": {
    "collapsed": false
   },
   "outputs": [
    {
     "data": {
      "text/plain": [
       "2     26081\n",
       "9     23143\n",
       "8      9924\n",
       "6       930\n",
       "4       459\n",
       "10      377\n",
       "Name: Var2, dtype: int64"
      ]
     },
     "execution_count": 443,
     "metadata": {},
     "output_type": "execute_result"
    }
   ],
   "source": [
    "X_train.Var2.value_counts()"
   ]
  },
  {
   "cell_type": "code",
   "execution_count": 444,
   "metadata": {
    "collapsed": true
   },
   "outputs": [],
   "source": [
    "onehot=pd.get_dummies(X_test[[\"Var2\"]])\n",
    "level_grouper = DecisionTreeClassifier(min_samples_leaf=100, max_leaf_nodes=10)\n",
    "level_grouper.fit(onehot, X_test.Disbursed)\n",
    "X_test[\"Var2\"] = level_grouper.apply(onehot).astype(str)"
   ]
  },
  {
   "cell_type": "code",
   "execution_count": 445,
   "metadata": {
    "collapsed": false
   },
   "outputs": [
    {
     "data": {
      "text/plain": [
       "2     11199\n",
       "10     9893\n",
       "9      4287\n",
       "8       385\n",
       "4       175\n",
       "6       167\n",
       "Name: Var2, dtype: int64"
      ]
     },
     "execution_count": 445,
     "metadata": {},
     "output_type": "execute_result"
    }
   ],
   "source": [
    "X_test.Var2.value_counts()"
   ]
  },
  {
   "cell_type": "code",
   "execution_count": 446,
   "metadata": {
    "collapsed": false
   },
   "outputs": [
    {
     "data": {
      "text/plain": [
       "S122    27004\n",
       "S133    20975\n",
       "S159     3911\n",
       "S143     2993\n",
       "S127     1363\n",
       "S137     1177\n",
       "S134      907\n",
       "S161      572\n",
       "S151      502\n",
       "S157      456\n",
       "S153      340\n",
       "S144      205\n",
       "S156      203\n",
       "S158      151\n",
       "S123       45\n",
       "S141       40\n",
       "S162       26\n",
       "S124       14\n",
       "S150        8\n",
       "S160        7\n",
       "S129        3\n",
       "S136        2\n",
       "S135        2\n",
       "S139        2\n",
       "S138        2\n",
       "S154        1\n",
       "S140        1\n",
       "S155        1\n",
       "S125        1\n",
       "Name: Source, dtype: int64"
      ]
     },
     "execution_count": 446,
     "metadata": {},
     "output_type": "execute_result"
    }
   ],
   "source": [
    "X_train.Source.value_counts()"
   ]
  },
  {
   "cell_type": "code",
   "execution_count": 447,
   "metadata": {
    "collapsed": true
   },
   "outputs": [],
   "source": [
    "# Kodowanie zmiennej Source do kilku poziomów grup\n",
    "onehot=pd.get_dummies(X_train[[\"Source\"]])\n",
    "level_grouper = DecisionTreeClassifier(min_samples_leaf=100, max_leaf_nodes=15)\n",
    "level_grouper.fit(onehot, X_train.Disbursed)\n",
    "X_train[\"Source\"] = level_grouper.apply(onehot).astype(str)"
   ]
  },
  {
   "cell_type": "code",
   "execution_count": 448,
   "metadata": {
    "collapsed": false
   },
   "outputs": [
    {
     "data": {
      "text/plain": [
       "14    27004\n",
       "12    20975\n",
       "8      3911\n",
       "4      2993\n",
       "16     1363\n",
       "6      1177\n",
       "2       907\n",
       "10      572\n",
       "23      563\n",
       "20      502\n",
       "18      456\n",
       "24      340\n",
       "22      151\n",
       "Name: Source, dtype: int64"
      ]
     },
     "execution_count": 448,
     "metadata": {},
     "output_type": "execute_result"
    }
   ],
   "source": [
    "X_train.Source.value_counts()"
   ]
  },
  {
   "cell_type": "code",
   "execution_count": 449,
   "metadata": {
    "collapsed": true
   },
   "outputs": [],
   "source": [
    "onehot=pd.get_dummies(X_test[[\"Source\"]])\n",
    "level_grouper = DecisionTreeClassifier(min_samples_leaf=100, max_leaf_nodes=15)\n",
    "level_grouper.fit(onehot, X_test.Disbursed)\n",
    "X_test[\"Source\"] = level_grouper.apply(onehot).astype(str)"
   ]
  },
  {
   "cell_type": "code",
   "execution_count": 450,
   "metadata": {
    "collapsed": false
   },
   "outputs": [
    {
     "data": {
      "text/plain": [
       "20    11563\n",
       "24     8910\n",
       "4      1688\n",
       "22     1339\n",
       "6       568\n",
       "2       547\n",
       "8       394\n",
       "23      229\n",
       "12      218\n",
       "16      197\n",
       "18      194\n",
       "10      154\n",
       "14      105\n",
       "Name: Source, dtype: int64"
      ]
     },
     "execution_count": 450,
     "metadata": {},
     "output_type": "execute_result"
    }
   ],
   "source": [
    "X_test.Source.value_counts()"
   ]
  },
  {
   "cell_type": "code",
   "execution_count": 451,
   "metadata": {
    "collapsed": false
   },
   "outputs": [
    {
     "name": "stdout",
     "output_type": "stream",
     "text": [
      "<class 'pandas.core.frame.DataFrame'>\n",
      "Int64Index: 60914 entries, 44277 to 15795\n",
      "Data columns (total 22 columns):\n",
      "Gender                   60914 non-null int64\n",
      "City                     60914 non-null object\n",
      "Monthly_Income           60914 non-null int64\n",
      "Loan_Amount_Applied      60914 non-null float64\n",
      "Loan_Tenure_Applied      60914 non-null float64\n",
      "Existing_EMI             60914 non-null float64\n",
      "Salary_Account           60914 non-null object\n",
      "Mobile_Verified          60914 non-null int64\n",
      "Var5                     60914 non-null int64\n",
      "Var1                     60914 non-null object\n",
      "Loan_Amount_Submitted    60914 non-null float64\n",
      "Loan_Tenure_Submitted    60914 non-null float64\n",
      "Interest_Rate            60914 non-null float64\n",
      "Processing_Fee           60914 non-null float64\n",
      "EMI_Loan_Submitted       60914 non-null float64\n",
      "Filled_Form              60914 non-null int64\n",
      "Device_Type              60914 non-null int64\n",
      "Var2                     60914 non-null object\n",
      "Source                   60914 non-null object\n",
      "Var4                     60914 non-null int64\n",
      "Disbursed                60914 non-null int64\n",
      "Wiek                     60914 non-null int64\n",
      "dtypes: float64(8), int64(9), object(5)\n",
      "memory usage: 10.7+ MB\n"
     ]
    }
   ],
   "source": [
    "X_train.info()"
   ]
  },
  {
   "cell_type": "code",
   "execution_count": 452,
   "metadata": {
    "collapsed": false
   },
   "outputs": [
    {
     "data": {
      "text/html": [
       "<div>\n",
       "<style scoped>\n",
       "    .dataframe tbody tr th:only-of-type {\n",
       "        vertical-align: middle;\n",
       "    }\n",
       "\n",
       "    .dataframe tbody tr th {\n",
       "        vertical-align: top;\n",
       "    }\n",
       "\n",
       "    .dataframe thead th {\n",
       "        text-align: right;\n",
       "    }\n",
       "</style>\n",
       "<table border=\"1\" class=\"dataframe\">\n",
       "  <thead>\n",
       "    <tr style=\"text-align: right;\">\n",
       "      <th></th>\n",
       "      <th>Gender</th>\n",
       "      <th>City</th>\n",
       "      <th>Monthly_Income</th>\n",
       "      <th>Loan_Amount_Applied</th>\n",
       "      <th>Loan_Tenure_Applied</th>\n",
       "      <th>Existing_EMI</th>\n",
       "      <th>Salary_Account</th>\n",
       "      <th>Mobile_Verified</th>\n",
       "      <th>Var5</th>\n",
       "      <th>Var1</th>\n",
       "      <th>...</th>\n",
       "      <th>Interest_Rate</th>\n",
       "      <th>Processing_Fee</th>\n",
       "      <th>EMI_Loan_Submitted</th>\n",
       "      <th>Filled_Form</th>\n",
       "      <th>Device_Type</th>\n",
       "      <th>Var2</th>\n",
       "      <th>Source</th>\n",
       "      <th>Var4</th>\n",
       "      <th>Disbursed</th>\n",
       "      <th>Wiek</th>\n",
       "    </tr>\n",
       "  </thead>\n",
       "  <tbody>\n",
       "    <tr>\n",
       "      <th>44277</th>\n",
       "      <td>1</td>\n",
       "      <td>38</td>\n",
       "      <td>28000</td>\n",
       "      <td>100000.0</td>\n",
       "      <td>2.0</td>\n",
       "      <td>2500.0</td>\n",
       "      <td>20</td>\n",
       "      <td>1</td>\n",
       "      <td>9</td>\n",
       "      <td>22</td>\n",
       "      <td>...</td>\n",
       "      <td>20.000000</td>\n",
       "      <td>1000.000000</td>\n",
       "      <td>5089.580000</td>\n",
       "      <td>1</td>\n",
       "      <td>1</td>\n",
       "      <td>2</td>\n",
       "      <td>12</td>\n",
       "      <td>5</td>\n",
       "      <td>0</td>\n",
       "      <td>32</td>\n",
       "    </tr>\n",
       "    <tr>\n",
       "      <th>5140</th>\n",
       "      <td>0</td>\n",
       "      <td>37</td>\n",
       "      <td>14000</td>\n",
       "      <td>0.0</td>\n",
       "      <td>0.0</td>\n",
       "      <td>0.0</td>\n",
       "      <td>8</td>\n",
       "      <td>0</td>\n",
       "      <td>0</td>\n",
       "      <td>28</td>\n",
       "      <td>...</td>\n",
       "      <td>19.232148</td>\n",
       "      <td>5132.927557</td>\n",
       "      <td>10979.460546</td>\n",
       "      <td>0</td>\n",
       "      <td>0</td>\n",
       "      <td>8</td>\n",
       "      <td>12</td>\n",
       "      <td>1</td>\n",
       "      <td>0</td>\n",
       "      <td>26</td>\n",
       "    </tr>\n",
       "    <tr>\n",
       "      <th>53345</th>\n",
       "      <td>0</td>\n",
       "      <td>8</td>\n",
       "      <td>25000</td>\n",
       "      <td>0.0</td>\n",
       "      <td>0.0</td>\n",
       "      <td>0.0</td>\n",
       "      <td>12</td>\n",
       "      <td>1</td>\n",
       "      <td>1</td>\n",
       "      <td>28</td>\n",
       "      <td>...</td>\n",
       "      <td>19.232148</td>\n",
       "      <td>5132.927557</td>\n",
       "      <td>10979.460546</td>\n",
       "      <td>0</td>\n",
       "      <td>0</td>\n",
       "      <td>8</td>\n",
       "      <td>4</td>\n",
       "      <td>3</td>\n",
       "      <td>0</td>\n",
       "      <td>32</td>\n",
       "    </tr>\n",
       "    <tr>\n",
       "      <th>38935</th>\n",
       "      <td>1</td>\n",
       "      <td>8</td>\n",
       "      <td>40000</td>\n",
       "      <td>0.0</td>\n",
       "      <td>0.0</td>\n",
       "      <td>0.0</td>\n",
       "      <td>14</td>\n",
       "      <td>1</td>\n",
       "      <td>9</td>\n",
       "      <td>8</td>\n",
       "      <td>...</td>\n",
       "      <td>14.490000</td>\n",
       "      <td>4752.000000</td>\n",
       "      <td>16519.730000</td>\n",
       "      <td>1</td>\n",
       "      <td>0</td>\n",
       "      <td>8</td>\n",
       "      <td>8</td>\n",
       "      <td>5</td>\n",
       "      <td>0</td>\n",
       "      <td>28</td>\n",
       "    </tr>\n",
       "    <tr>\n",
       "      <th>48480</th>\n",
       "      <td>1</td>\n",
       "      <td>2</td>\n",
       "      <td>22000</td>\n",
       "      <td>0.0</td>\n",
       "      <td>0.0</td>\n",
       "      <td>0.0</td>\n",
       "      <td>18</td>\n",
       "      <td>1</td>\n",
       "      <td>2</td>\n",
       "      <td>28</td>\n",
       "      <td>...</td>\n",
       "      <td>19.232148</td>\n",
       "      <td>5132.927557</td>\n",
       "      <td>10979.460546</td>\n",
       "      <td>0</td>\n",
       "      <td>0</td>\n",
       "      <td>8</td>\n",
       "      <td>12</td>\n",
       "      <td>2</td>\n",
       "      <td>0</td>\n",
       "      <td>38</td>\n",
       "    </tr>\n",
       "  </tbody>\n",
       "</table>\n",
       "<p>5 rows × 22 columns</p>\n",
       "</div>"
      ],
      "text/plain": [
       "       Gender City  Monthly_Income  Loan_Amount_Applied  Loan_Tenure_Applied  \\\n",
       "44277       1   38           28000             100000.0                  2.0   \n",
       "5140        0   37           14000                  0.0                  0.0   \n",
       "53345       0    8           25000                  0.0                  0.0   \n",
       "38935       1    8           40000                  0.0                  0.0   \n",
       "48480       1    2           22000                  0.0                  0.0   \n",
       "\n",
       "       Existing_EMI Salary_Account  Mobile_Verified  Var5 Var1  ...  \\\n",
       "44277        2500.0             20                1     9   22  ...   \n",
       "5140            0.0              8                0     0   28  ...   \n",
       "53345           0.0             12                1     1   28  ...   \n",
       "38935           0.0             14                1     9    8  ...   \n",
       "48480           0.0             18                1     2   28  ...   \n",
       "\n",
       "       Interest_Rate  Processing_Fee  EMI_Loan_Submitted  Filled_Form  \\\n",
       "44277      20.000000     1000.000000         5089.580000            1   \n",
       "5140       19.232148     5132.927557        10979.460546            0   \n",
       "53345      19.232148     5132.927557        10979.460546            0   \n",
       "38935      14.490000     4752.000000        16519.730000            1   \n",
       "48480      19.232148     5132.927557        10979.460546            0   \n",
       "\n",
       "       Device_Type  Var2  Source Var4 Disbursed  Wiek  \n",
       "44277            1     2      12    5         0    32  \n",
       "5140             0     8      12    1         0    26  \n",
       "53345            0     8       4    3         0    32  \n",
       "38935            0     8       8    5         0    28  \n",
       "48480            0     8      12    2         0    38  \n",
       "\n",
       "[5 rows x 22 columns]"
      ]
     },
     "execution_count": 452,
     "metadata": {},
     "output_type": "execute_result"
    }
   ],
   "source": [
    "X_train.head()"
   ]
  },
  {
   "cell_type": "code",
   "execution_count": 454,
   "metadata": {
    "collapsed": false
   },
   "outputs": [
    {
     "data": {
      "text/plain": [
       "OneHotEncoder(categorical_features=array([ 1,  6,  8,  9, 17, 18, 19]),\n",
       "       categories=None, dtype=<class 'numpy.float64'>,\n",
       "       handle_unknown='ignore', n_values='auto', sparse=False)"
      ]
     },
     "execution_count": 454,
     "metadata": {},
     "output_type": "execute_result"
    }
   ],
   "source": [
    "categorical_columns = [1,6,8,9,17,18,19]\n",
    "\n",
    "onehot_encoder_full = OneHotEncoder(categorical_features=np.array(categorical_columns),\n",
    "                                    handle_unknown=\"ignore\",\n",
    "                                    sparse=False,\n",
    "                                    n_values='auto')\n",
    "onehot_encoder_full.fit(X_train.drop([\"Disbursed\"],axis=1))"
   ]
  },
  {
   "cell_type": "code",
   "execution_count": 455,
   "metadata": {
    "collapsed": true
   },
   "outputs": [],
   "source": [
    "X_train = onehot_encoder_full.transform(X_train.drop([\"Disbursed\"],axis=1))\n",
    "X_test = onehot_encoder_full.transform(X_test.drop([\"Disbursed\"],axis=1))"
   ]
  },
  {
   "cell_type": "code",
   "execution_count": 456,
   "metadata": {
    "collapsed": false
   },
   "outputs": [
    {
     "data": {
      "text/plain": [
       "((60914, 115), (26106, 115))"
      ]
     },
     "execution_count": 456,
     "metadata": {},
     "output_type": "execute_result"
    }
   ],
   "source": [
    "X_train.shape, X_test.shape"
   ]
  },
  {
   "cell_type": "code",
   "execution_count": 459,
   "metadata": {
    "collapsed": false
   },
   "outputs": [],
   "source": [
    "from sklearn.linear_model import LogisticRegression\n",
    "from sklearn.metrics import accuracy_score"
   ]
  },
  {
   "cell_type": "code",
   "execution_count": 460,
   "metadata": {
    "collapsed": false
   },
   "outputs": [
    {
     "data": {
      "text/plain": [
       "0.9849076840573049"
      ]
     },
     "execution_count": 460,
     "metadata": {},
     "output_type": "execute_result"
    }
   ],
   "source": [
    "model_lr = LogisticRegression()\n",
    "model_lr.fit(X_train, y_train)\n",
    "accuracy_score(model_lr.predict(X_test), y_test)"
   ]
  },
  {
   "cell_type": "code",
   "execution_count": 461,
   "metadata": {
    "collapsed": false
   },
   "outputs": [
    {
     "data": {
      "text/plain": [
       "array([[ 2.45645459e-05, -6.54201790e-08, -8.15287513e-05,\n",
       "        -6.65036684e-05,  4.78734417e-06,  2.84343823e-06,\n",
       "         2.67977346e-06, -3.18067365e-05,  8.20313536e-07,\n",
       "        -4.02012780e-06, -2.72606270e-06, -2.21079500e-05,\n",
       "        -1.68070420e-05, -8.01705176e-06, -5.15482124e-07,\n",
       "        -6.15857331e-06, -1.04528350e-05, -1.17072417e-04,\n",
       "        -5.30156498e-04, -1.15672361e-04,  1.85657277e-05,\n",
       "        -8.98804452e-05,  3.55813405e-05, -7.18759529e-05,\n",
       "         8.15052700e-06, -1.78941787e-05,  4.98903412e-07,\n",
       "        -8.05749401e-06, -2.04854313e-04, -3.00297762e-06,\n",
       "        -2.01387211e-06, -1.06008265e-05, -1.03789538e-05,\n",
       "        -2.64550051e-06, -1.42018982e-05, -2.64269057e-05,\n",
       "        -1.43458262e-05, -1.38727498e-06, -5.52645895e-04,\n",
       "        -1.04997475e-05, -3.69608307e-04, -5.65280590e-04,\n",
       "        -1.86926879e-04, -2.15543419e-04, -5.82961437e-06,\n",
       "         1.21743467e-05,  5.74310064e-06,  3.71052397e-06,\n",
       "        -3.46455837e-05, -5.27988676e-06, -1.26509228e-05,\n",
       "        -9.75726503e-05,  7.95444356e-06,  5.15364331e-05,\n",
       "         8.77661922e-05,  1.61397178e-04,  8.60447659e-05,\n",
       "         8.85534356e-05,  1.05418709e-05,  6.74983106e-05,\n",
       "         5.45035271e-05,  6.09104805e-05, -1.03318616e-05,\n",
       "        -2.51259129e-04, -8.40419494e-05,  4.13612374e-06,\n",
       "        -1.58332329e-05,  5.56821677e-07, -2.83273798e-06,\n",
       "        -4.81426762e-04, -1.48157657e-05, -5.62997913e-05,\n",
       "        -6.15098276e-05, -1.87169769e-04, -5.02136643e-04,\n",
       "        -1.45089407e-05, -1.35441719e-05, -7.84930448e-05,\n",
       "        -3.67818970e-04, -1.41379264e-06,  2.91277562e-05,\n",
       "         5.86069988e-07, -3.35200714e-05, -1.30299227e-04,\n",
       "        -2.58071854e-05, -3.46318891e-04, -3.37724525e-04,\n",
       "        -4.96419479e-05, -1.62958912e-05, -2.36550342e-05,\n",
       "        -4.03489901e-06, -2.82877317e-05, -1.20439842e-05,\n",
       "        -4.45863615e-05, -2.83405080e-04,  9.96494293e-05,\n",
       "        -1.14908554e-05, -3.22829383e-04, -3.75029501e-04,\n",
       "        -1.97021286e-06, -3.82535980e-05, -5.94318252e-04,\n",
       "        -7.74579958e-07,  4.66652088e-08, -1.72154675e-03,\n",
       "         3.35197940e-06, -7.02255979e-04,  1.10913492e-06,\n",
       "        -3.73592957e-03, -2.28052819e-02,  3.18891709e-05,\n",
       "        -3.04273849e-04, -3.61169833e-04, -8.47262471e-04,\n",
       "        -2.91286884e-02]])"
      ]
     },
     "execution_count": 461,
     "metadata": {},
     "output_type": "execute_result"
    }
   ],
   "source": [
    "model_lr.coef_ # jeśli współczynnik jest dodatni to im większa wartość zmiennej tym większe prawdopodobieństwo\n",
    "# aby porównywanie współczynników miało sens trzeba je przeskalować"
   ]
  },
  {
   "cell_type": "code",
   "execution_count": 462,
   "metadata": {
    "collapsed": true
   },
   "outputs": [],
   "source": [
    "from sklearn.preprocessing import StandardScaler\n",
    "from sklearn.pipeline import make_pipeline"
   ]
  },
  {
   "cell_type": "code",
   "execution_count": 463,
   "metadata": {
    "collapsed": true
   },
   "outputs": [],
   "source": [
    "model_lr = make_pipeline(StandardScaler(),LogisticRegression())  # najpierw skalowanie plus dopasowuje się model"
   ]
  },
  {
   "cell_type": "code",
   "execution_count": 464,
   "metadata": {
    "collapsed": false
   },
   "outputs": [
    {
     "data": {
      "text/plain": [
       "Pipeline(memory=None,\n",
       "     steps=[('standardscaler', StandardScaler(copy=True, with_mean=True, with_std=True)), ('logisticregression', LogisticRegression(C=1.0, class_weight=None, dual=False, fit_intercept=True,\n",
       "          intercept_scaling=1, max_iter=100, multi_class='warn',\n",
       "          n_jobs=None, penalty='l2', random_state=None, solver='warn',\n",
       "          tol=0.0001, verbose=0, warm_start=False))])"
      ]
     },
     "execution_count": 464,
     "metadata": {},
     "output_type": "execute_result"
    }
   ],
   "source": [
    "model_lr.fit(X_train, y_train)"
   ]
  },
  {
   "cell_type": "code",
   "execution_count": 465,
   "metadata": {
    "collapsed": false
   },
   "outputs": [
    {
     "data": {
      "text/plain": [
       "array([[ 0.07,  0.09, -0.05,  0.02,  0.11,  0.04,  0.08,  0.06,  0.08,\n",
       "         0.06,  0.05,  0.05,  0.04,  0.03,  0.06,  0.01, -0.  , -0.15,\n",
       "        -0.06, -0.12,  0.17,  0.15,  0.08,  0.07,  0.05,  0.03,  0.02,\n",
       "         0.04, -0.08,  0.05,  0.04,  0.04,  0.05,  0.  , -0.02, -0.03,\n",
       "        -0.  ,  0.02, -0.37,  0.01,  0.01, -0.7 , -0.25, -0.08,  0.02,\n",
       "         0.04,  0.02,  0.07,  0.07,  0.1 ,  0.11,  0.1 ,  0.15,  0.18,\n",
       "         0.23,  0.31,  0.2 ,  0.2 ,  0.07,  0.04,  0.01, -0.01, -0.04,\n",
       "         0.05, -0.02, -0.02, -0.22, -0.1 , -0.06, -0.07, -0.06, -0.08,\n",
       "        -0.07,  0.12,  0.04, -0.33, -0.  ,  0.09, -0.05, -0.  ,  0.12,\n",
       "         0.06, -0.51, -0.03, -0.19,  0.07,  0.2 , -0.05, -0.05, -0.08,\n",
       "        -0.04, -0.44, -0.04, -0.21,  0.1 ,  0.16,  0.17,  0.17, -0.4 ,\n",
       "         0.05, -0.03,  0.16, -2.55, -0.1 ,  0.24,  0.41,  0.  ,  0.09,\n",
       "        -0.02, -0.24, -0.02,  0.01,  0.87, -0.03,  0.22]])"
      ]
     },
     "execution_count": 465,
     "metadata": {},
     "output_type": "execute_result"
    }
   ],
   "source": [
    "model_lr.steps[-1][1].coef_.round(2)"
   ]
  },
  {
   "cell_type": "code",
   "execution_count": 471,
   "metadata": {
    "collapsed": false
   },
   "outputs": [
    {
     "ename": "AttributeError",
     "evalue": "'numpy.ndarray' object has no attribute 'columns'",
     "output_type": "error",
     "traceback": [
      "\u001b[0;31m---------------------------------------------------------------------------\u001b[0m",
      "\u001b[0;31mAttributeError\u001b[0m                            Traceback (most recent call last)",
      "\u001b[0;32m<ipython-input-471-9ef2ccaf8fd3>\u001b[0m in \u001b[0;36m<module>\u001b[0;34m()\u001b[0m\n\u001b[0;32m----> 1\u001b[0;31m \u001b[0mX_train\u001b[0m\u001b[0;34m.\u001b[0m\u001b[0mcolumns\u001b[0m \u001b[0;31m# według tego modelu najważniejszy jest Monthly_Income, następnie - Var5, i na końcu Existing EMI\u001b[0m\u001b[0;34m\u001b[0m\u001b[0;34m\u001b[0m\u001b[0m\n\u001b[0m\u001b[1;32m      2\u001b[0m \u001b[0;31m# nie jest ważny znak tylko wartość jaką przybiera\u001b[0m\u001b[0;34m\u001b[0m\u001b[0;34m\u001b[0m\u001b[0;34m\u001b[0m\u001b[0m\n",
      "\u001b[0;31mAttributeError\u001b[0m: 'numpy.ndarray' object has no attribute 'columns'"
     ]
    }
   ],
   "source": [
    "X_train.columns # według tego modelu najważniejszy jest Monthly_Income, następnie - Var5, i na końcu Existing EMI\n",
    "# nie jest ważny znak tylko wartość jaką przybiera"
   ]
  },
  {
   "cell_type": "code",
   "execution_count": 467,
   "metadata": {
    "collapsed": true
   },
   "outputs": [],
   "source": [
    "# Ocena istotności z użyciem drzewa decyzyjnego, tu nie musimy nic skalować. Nie mamy współczynników i nie mamy wpływów\n",
    "# prostych. Tą miarę jest ciężko zinterpretować\n",
    "from sklearn.tree import DecisionTreeClassifier"
   ]
  },
  {
   "cell_type": "code",
   "execution_count": 468,
   "metadata": {
    "collapsed": false
   },
   "outputs": [
    {
     "data": {
      "text/plain": [
       "DecisionTreeClassifier(class_weight=None, criterion='gini', max_depth=5,\n",
       "            max_features=None, max_leaf_nodes=None,\n",
       "            min_impurity_decrease=0.0, min_impurity_split=None,\n",
       "            min_samples_leaf=1, min_samples_split=2,\n",
       "            min_weight_fraction_leaf=0.0, presort=False, random_state=None,\n",
       "            splitter='best')"
      ]
     },
     "execution_count": 468,
     "metadata": {},
     "output_type": "execute_result"
    }
   ],
   "source": [
    "model_dt = DecisionTreeClassifier(max_depth=5)\n",
    "model_dt.fit(X_train, y_train)"
   ]
  },
  {
   "cell_type": "code",
   "execution_count": 469,
   "metadata": {
    "collapsed": false
   },
   "outputs": [
    {
     "data": {
      "text/plain": [
       "0.9836819122040911"
      ]
     },
     "execution_count": 469,
     "metadata": {},
     "output_type": "execute_result"
    }
   ],
   "source": [
    "accuracy_score(model_dt.predict(X_test), y_test)"
   ]
  },
  {
   "cell_type": "code",
   "execution_count": 472,
   "metadata": {
    "collapsed": true
   },
   "outputs": [],
   "source": [
    "# co decyduje o ważności zmiennych w drzewie, im wyżej zmienna w drzewie tym ważniejsza, im mniejszy współczynnik gini\n",
    "# przy zmiennej tym ważniejsza zmienna\n",
    "# Jak duży wkład miała dana zmienna na podział drzewa? Bierzemy średnią ważoną ze współczynników gini w zmiennych po\n",
    "# rozgałęzieniu i odejmujemy ją od wartości współczynnika gini przy zmiennej od której wychodził węzeł"
   ]
  },
  {
   "cell_type": "code",
   "execution_count": 473,
   "metadata": {
    "collapsed": false
   },
   "outputs": [
    {
     "data": {
      "text/plain": [
       "array([0.        , 0.02651793, 0.        , 0.        , 0.        ,\n",
       "       0.        , 0.        , 0.        , 0.        , 0.        ,\n",
       "       0.        , 0.        , 0.        , 0.        , 0.        ,\n",
       "       0.02203658, 0.        , 0.        , 0.        , 0.        ,\n",
       "       0.        , 0.        , 0.        , 0.        , 0.        ,\n",
       "       0.        , 0.        , 0.        , 0.        , 0.        ,\n",
       "       0.        , 0.        , 0.        , 0.        , 0.        ,\n",
       "       0.        , 0.        , 0.        , 0.03819918, 0.        ,\n",
       "       0.        , 0.        , 0.        , 0.        , 0.00253211,\n",
       "       0.        , 0.        , 0.        , 0.        , 0.        ,\n",
       "       0.00351316, 0.        , 0.        , 0.        , 0.        ,\n",
       "       0.        , 0.03464254, 0.        , 0.        , 0.        ,\n",
       "       0.        , 0.        , 0.        , 0.        , 0.        ,\n",
       "       0.        , 0.        , 0.        , 0.        , 0.        ,\n",
       "       0.        , 0.        , 0.        , 0.        , 0.        ,\n",
       "       0.        , 0.        , 0.        , 0.        , 0.        ,\n",
       "       0.03580877, 0.        , 0.02094886, 0.        , 0.        ,\n",
       "       0.        , 0.        , 0.        , 0.        , 0.        ,\n",
       "       0.        , 0.        , 0.        , 0.        , 0.        ,\n",
       "       0.        , 0.        , 0.        , 0.02983796, 0.        ,\n",
       "       0.        , 0.        , 0.46859387, 0.01518081, 0.        ,\n",
       "       0.1473693 , 0.        , 0.        , 0.        , 0.10882022,\n",
       "       0.        , 0.01043226, 0.        , 0.        , 0.03556646])"
      ]
     },
     "execution_count": 473,
     "metadata": {},
     "output_type": "execute_result"
    }
   ],
   "source": [
    "model_dt.feature_importances_ # sumy uzysków współczynnika gini przy danych zmiennych"
   ]
  },
  {
   "cell_type": "code",
   "execution_count": 474,
   "metadata": {
    "collapsed": false
   },
   "outputs": [
    {
     "data": {
      "text/plain": [
       "array([0.01, 0.01, 0.01, 0.01, 0.  , 0.  , 0.  , 0.  , 0.  , 0.  , 0.  ,\n",
       "       0.  , 0.  , 0.  , 0.  , 0.  , 0.  , 0.  , 0.01, 0.  , 0.01, 0.02,\n",
       "       0.  , 0.01, 0.  , 0.  , 0.  , 0.  , 0.01, 0.  , 0.  , 0.  , 0.  ,\n",
       "       0.  , 0.  , 0.  , 0.  , 0.  , 0.01, 0.  , 0.01, 0.  , 0.  , 0.  ,\n",
       "       0.  , 0.  , 0.  , 0.  , 0.  , 0.  , 0.  , 0.  , 0.01, 0.01, 0.01,\n",
       "       0.01, 0.01, 0.01, 0.  , 0.01, 0.01, 0.01, 0.  , 0.  , 0.  , 0.  ,\n",
       "       0.  , 0.  , 0.  , 0.  , 0.  , 0.  , 0.  , 0.  , 0.01, 0.  , 0.  ,\n",
       "       0.  , 0.01, 0.  , 0.01, 0.01, 0.  , 0.  , 0.  , 0.02, 0.02, 0.  ,\n",
       "       0.  , 0.  , 0.  , 0.  , 0.  , 0.  , 0.  , 0.01, 0.01, 0.  , 0.01,\n",
       "       0.  , 0.  , 0.01, 0.14, 0.04, 0.03, 0.1 , 0.  , 0.06, 0.03, 0.04,\n",
       "       0.04, 0.05, 0.01, 0.  , 0.07])"
      ]
     },
     "execution_count": 474,
     "metadata": {},
     "output_type": "execute_result"
    }
   ],
   "source": [
    "# Ocena istotności zmiennych z użyciem lasu losowego, to średnia z ważności zmiennych w każdym z drzew w lesie\n",
    "# Przewaga tej oceny nad drzewem decyzyjnym jest taka, że w lesie losowym mamy więcej drzew ale słabszych, \n",
    "# ale w sumie dają lepszy wynik. Las losowy jest stabilny, ocena jest dokładniejsza. Tych drzew musi być naprawdę dużo\n",
    "# żeby ten wynik był miarodajny\n",
    "from sklearn.ensemble import RandomForestClassifier\n",
    "model_rf = RandomForestClassifier(100, min_samples_leaf=10)\n",
    "model_rf.fit(X_train, y_train)\n",
    "model_rf.feature_importances_.round(2)"
   ]
  },
  {
   "cell_type": "code",
   "execution_count": 475,
   "metadata": {
    "collapsed": true
   },
   "outputs": [],
   "source": [
    "# ocenianie na podstawie modelu ma sens tylko wtedy kiedy model jest dobry, działa"
   ]
  },
  {
   "cell_type": "code",
   "execution_count": 476,
   "metadata": {
    "collapsed": false
   },
   "outputs": [
    {
     "data": {
      "text/plain": [
       "0.9849076840573049"
      ]
     },
     "execution_count": 476,
     "metadata": {},
     "output_type": "execute_result"
    }
   ],
   "source": [
    "from sklearn.metrics import accuracy_score\n",
    "accuracy_score(y_test, model_rf.predict(X_test)) # ocena jakości predykcji modelu, czy dobrze przewiduje prawdopodobieństwo"
   ]
  },
  {
   "cell_type": "code",
   "execution_count": 477,
   "metadata": {
    "collapsed": false
   },
   "outputs": [
    {
     "data": {
      "text/plain": [
       "0.9855698197458712"
      ]
     },
     "execution_count": 477,
     "metadata": {},
     "output_type": "execute_result"
    }
   ],
   "source": [
    "accuracy_score(y_train, model_rf.predict(X_train)) # model jest przeuczony"
   ]
  },
  {
   "cell_type": "code",
   "execution_count": 478,
   "metadata": {
    "collapsed": false
   },
   "outputs": [
    {
     "data": {
      "text/plain": [
       "(26106, 115)"
      ]
     },
     "execution_count": 478,
     "metadata": {},
     "output_type": "execute_result"
    }
   ],
   "source": [
    "X_test.shape"
   ]
  },
  {
   "cell_type": "code",
   "execution_count": 479,
   "metadata": {
    "collapsed": false
   },
   "outputs": [
    {
     "data": {
      "text/plain": [
       "0.015092315942695165"
      ]
     },
     "execution_count": 479,
     "metadata": {},
     "output_type": "execute_result"
    }
   ],
   "source": [
    "y_test.mean() # ile jest 1 (Otrzymało pożyczkę) 1,5 %"
   ]
  },
  {
   "cell_type": "code",
   "execution_count": 480,
   "metadata": {
    "collapsed": false
   },
   "outputs": [
    {
     "data": {
      "text/plain": [
       "0.9849076840573049"
      ]
     },
     "execution_count": 480,
     "metadata": {},
     "output_type": "execute_result"
    }
   ],
   "source": [
    "1 - y_test.mean() # ile jest 0 (Nie dostali pożyczki) 98,5 %"
   ]
  },
  {
   "cell_type": "code",
   "execution_count": null,
   "metadata": {
    "collapsed": true
   },
   "outputs": [],
   "source": []
  }
 ],
 "metadata": {
  "kernelspec": {
   "display_name": "Python 3",
   "language": "python",
   "name": "python3"
  },
  "language_info": {
   "codemirror_mode": {
    "name": "ipython",
    "version": 3
   },
   "file_extension": ".py",
   "mimetype": "text/x-python",
   "name": "python",
   "nbconvert_exporter": "python",
   "pygments_lexer": "ipython3",
   "version": "3.6.8"
  }
 },
 "nbformat": 4,
 "nbformat_minor": 2
}
